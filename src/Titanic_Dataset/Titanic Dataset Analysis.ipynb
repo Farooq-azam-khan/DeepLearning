{
 "cells": [
  {
   "cell_type": "code",
   "execution_count": 4,
   "metadata": {},
   "outputs": [
    {
     "name": "stdout",
     "output_type": "stream",
     "text": [
      "Python version: 3.6.2rc1 (heads/3.6:268e1fb, Jun 17 2017, 19:01:44) [MSC v.1900 64 bit (AMD64)]\n",
      "Pandas version: 0.23.0\n",
      "Matplotlib version: 2.2.2\n",
      "Numpy version: 1.14.3\n",
      "SciPy version: 1.1.0\n",
      "scikit-learn version: 0.19.1\n",
      "-------------------------\n"
     ]
    }
   ],
   "source": [
    "import sys\n",
    "import seaborn as sns\n",
    "import pandas as pd\n",
    "import matplotlib\n",
    "import numpy as np\n",
    "import scipy as sp\n",
    "import sklearn \n",
    "import random \n",
    "import time\n",
    "import warnings\n",
    "warnings.filterwarnings(\"ignore\")\n",
    "\n",
    "print(\"Python version: {}\".format(sys.version))\n",
    "print(\"Pandas version: {}\".format(pd.__version__))\n",
    "print(\"Matplotlib version: {}\".format(matplotlib.__version__))\n",
    "print(\"Numpy version: {}\".format(np.__version__))\n",
    "print(\"SciPy version: {}\".format(sp.__version__))\n",
    "print(\"scikit-learn version: {}\".format(sklearn.__version__))\n",
    "print('-'*25)\n",
    "\n",
    "# from subprocess import check_output\n",
    "# print(check_output(['dir', '/data/']).decode('utf8'))\n",
    "\n"
   ]
  },
  {
   "cell_type": "markdown",
   "metadata": {},
   "source": [
    "# Load Data Modeling Libraries"
   ]
  },
  {
   "cell_type": "code",
   "execution_count": 6,
   "metadata": {},
   "outputs": [],
   "source": [
    "from sklearn import (svm, \n",
    "                     tree, \n",
    "                     linear_model, \n",
    "                     neighbors, \n",
    "                     naive_bayes,\n",
    "                    ensemble, discriminant_analysis,\n",
    "                    gaussian_process)\n",
    "# from xgboost import XGBClassifier # need to fix\n",
    "# import xgboost"
   ]
  },
  {
   "cell_type": "code",
   "execution_count": 7,
   "metadata": {},
   "outputs": [],
   "source": [
    "# helper methods for modeling\n",
    "from sklearn.preprocessing import OneHotEncoder, LabelEncoder\n",
    "from sklearn import feature_selection\n",
    "from sklearn import model_selection\n",
    "from sklearn import metrics"
   ]
  },
  {
   "cell_type": "code",
   "execution_count": 8,
   "metadata": {},
   "outputs": [],
   "source": [
    "# visualization\n",
    "import matplotlib as mpl\n",
    "import matplotlib.pyplot as plt\n",
    "import matplotlib.pylab as pylab\n",
    "import seaborn as sns\n",
    "from pandas.tools.plotting import scatter_matrix\n",
    "\n",
    "# defaults for visualization\n",
    "%matplotlib inline\n",
    "mpl.style.use('ggplot')\n",
    "sns.set_style('white')\n",
    "pylab.rcParams['figure.figsize'] = 12,8"
   ]
  },
  {
   "cell_type": "markdown",
   "metadata": {},
   "source": [
    "# Read in data"
   ]
  },
  {
   "cell_type": "code",
   "execution_count": 9,
   "metadata": {},
   "outputs": [],
   "source": [
    "data_raw = pd.read_csv('./data/train.csv')\n",
    "data_val = pd.read_csv('./data/test.csv')\n",
    "# will be broken into train and test\n",
    "# work with copy of data so as not to hinder the original data\n",
    "# deep=True copies the references to objects\n",
    "data1 = data_raw.copy(deep=True) \n",
    "data_cleaner = [data1, data_val]"
   ]
  },
  {
   "cell_type": "code",
   "execution_count": 10,
   "metadata": {},
   "outputs": [
    {
     "name": "stdout",
     "output_type": "stream",
     "text": [
      "<class 'pandas.core.frame.DataFrame'>\n",
      "RangeIndex: 891 entries, 0 to 890\n",
      "Data columns (total 12 columns):\n",
      "PassengerId    891 non-null int64\n",
      "Survived       891 non-null int64\n",
      "Pclass         891 non-null int64\n",
      "Name           891 non-null object\n",
      "Sex            891 non-null object\n",
      "Age            714 non-null float64\n",
      "SibSp          891 non-null int64\n",
      "Parch          891 non-null int64\n",
      "Ticket         891 non-null object\n",
      "Fare           891 non-null float64\n",
      "Cabin          204 non-null object\n",
      "Embarked       889 non-null object\n",
      "dtypes: float64(2), int64(5), object(5)\n",
      "memory usage: 83.6+ KB\n",
      "None\n"
     ]
    }
   ],
   "source": [
    "print(data_raw.info())"
   ]
  },
  {
   "cell_type": "code",
   "execution_count": 11,
   "metadata": {},
   "outputs": [
    {
     "name": "stdout",
     "output_type": "stream",
     "text": [
      "<class 'pandas.core.frame.DataFrame'>\n",
      "RangeIndex: 418 entries, 0 to 417\n",
      "Data columns (total 11 columns):\n",
      "PassengerId    418 non-null int64\n",
      "Pclass         418 non-null int64\n",
      "Name           418 non-null object\n",
      "Sex            418 non-null object\n",
      "Age            332 non-null float64\n",
      "SibSp          418 non-null int64\n",
      "Parch          418 non-null int64\n",
      "Ticket         418 non-null object\n",
      "Fare           417 non-null float64\n",
      "Cabin          91 non-null object\n",
      "Embarked       418 non-null object\n",
      "dtypes: float64(2), int64(4), object(5)\n",
      "memory usage: 36.0+ KB\n",
      "None\n"
     ]
    }
   ],
   "source": [
    "print(data_val.info())"
   ]
  },
  {
   "cell_type": "markdown",
   "metadata": {},
   "source": [
    "# Check for null fields"
   ]
  },
  {
   "cell_type": "code",
   "execution_count": 12,
   "metadata": {},
   "outputs": [
    {
     "name": "stdout",
     "output_type": "stream",
     "text": [
      "train.csv columns with null values:\n",
      "PassengerId      0\n",
      "Survived         0\n",
      "Pclass           0\n",
      "Name             0\n",
      "Sex              0\n",
      "Age            177\n",
      "SibSp            0\n",
      "Parch            0\n",
      "Ticket           0\n",
      "Fare             0\n",
      "Cabin          687\n",
      "Embarked         2\n",
      "dtype: int64\n",
      "----------\n"
     ]
    }
   ],
   "source": [
    "print(\"train.csv columns with null values:\")\n",
    "print(data1.isnull().sum())\n",
    "print(\"-\"*10)"
   ]
  },
  {
   "cell_type": "code",
   "execution_count": 13,
   "metadata": {},
   "outputs": [
    {
     "name": "stdout",
     "output_type": "stream",
     "text": [
      "test.csv columns with null values:\n",
      "PassengerId      0\n",
      "Pclass           0\n",
      "Name             0\n",
      "Sex              0\n",
      "Age             86\n",
      "SibSp            0\n",
      "Parch            0\n",
      "Ticket           0\n",
      "Fare             1\n",
      "Cabin          327\n",
      "Embarked         0\n",
      "dtype: int64\n",
      "----------\n"
     ]
    }
   ],
   "source": [
    "print(\"test.csv columns with null values:\")\n",
    "print(data_val.isnull().sum())\n",
    "print(\"-\"*10)"
   ]
  },
  {
   "cell_type": "markdown",
   "metadata": {},
   "source": [
    "# Clean the data"
   ]
  },
  {
   "cell_type": "code",
   "execution_count": 14,
   "metadata": {},
   "outputs": [
    {
     "name": "stdout",
     "output_type": "stream",
     "text": [
      "train.csv median Age: 28.0\n",
      "test.csv median Age: 27.0\n",
      "--------------------\n",
      "train.csv mode Embarked: 0    24.0\n",
      "dtype: float64\n",
      "test.csv mode Embarked: 21.0\n",
      "--------------------\n",
      "train.csv median Age: 14.4542\n",
      "test.csv median Age: 14.4542\n"
     ]
    }
   ],
   "source": [
    "print(\"train.csv median Age:\", data_cleaner[0]['Age'].median())\n",
    "print(\"test.csv median Age:\", data_cleaner[1]['Age'].median())\n",
    "\n",
    "print('-'*20)\n",
    "\n",
    "print(\"train.csv mode Embarked:\", data_cleaner[0]['Age'].mode())\n",
    "print(\"test.csv mode Embarked:\", data_cleaner[1]['Age'].mode()[0])\n",
    "\n",
    "print('-'*20)\n",
    "\n",
    "print(\"train.csv median Age:\", data_cleaner[0]['Fare'].median())\n",
    "print(\"test.csv median Age:\", data_cleaner[1]['Fare'].median())"
   ]
  },
  {
   "cell_type": "code",
   "execution_count": 16,
   "metadata": {},
   "outputs": [],
   "source": [
    "for dataset in data_cleaner:\n",
    "    # fill empty age fields with median age\n",
    "    median_age = dataset['Age'].median()\n",
    "    dataset['Age'].fillna(median_age, inplace=True)\n",
    "    \n",
    "    # fill empty vals with mode \n",
    "    mode_embarked = dataset['Embarked'].mode()[0]\n",
    "    dataset['Embarked'].fillna(mode_embarked, inplace=True)\n",
    "    \n",
    "    # fill empty vals with median \n",
    "    median_fare = dataset['Fare'].median()\n",
    "    dataset['Fare'].fillna(median_fare, inplace=True)"
   ]
  },
  {
   "cell_type": "code",
   "execution_count": 17,
   "metadata": {},
   "outputs": [],
   "source": [
    "# delete any columns that do not give much information\n",
    "drop_column = ['PassengerId','Cabin', 'Ticket']\n",
    "data1.drop(drop_column, axis=1, inplace = True)"
   ]
  },
  {
   "cell_type": "code",
   "execution_count": 18,
   "metadata": {},
   "outputs": [
    {
     "name": "stdout",
     "output_type": "stream",
     "text": [
      "<class 'pandas.core.frame.DataFrame'>\n",
      "RangeIndex: 891 entries, 0 to 890\n",
      "Data columns (total 9 columns):\n",
      "Survived    891 non-null int64\n",
      "Pclass      891 non-null int64\n",
      "Name        891 non-null object\n",
      "Sex         891 non-null object\n",
      "Age         891 non-null float64\n",
      "SibSp       891 non-null int64\n",
      "Parch       891 non-null int64\n",
      "Fare        891 non-null float64\n",
      "Embarked    891 non-null object\n",
      "dtypes: float64(2), int64(4), object(3)\n",
      "memory usage: 62.7+ KB\n"
     ]
    },
    {
     "data": {
      "text/html": [
       "<div>\n",
       "<style scoped>\n",
       "    .dataframe tbody tr th:only-of-type {\n",
       "        vertical-align: middle;\n",
       "    }\n",
       "\n",
       "    .dataframe tbody tr th {\n",
       "        vertical-align: top;\n",
       "    }\n",
       "\n",
       "    .dataframe thead th {\n",
       "        text-align: right;\n",
       "    }\n",
       "</style>\n",
       "<table border=\"1\" class=\"dataframe\">\n",
       "  <thead>\n",
       "    <tr style=\"text-align: right;\">\n",
       "      <th></th>\n",
       "      <th>Survived</th>\n",
       "      <th>Pclass</th>\n",
       "      <th>Age</th>\n",
       "      <th>SibSp</th>\n",
       "      <th>Parch</th>\n",
       "      <th>Fare</th>\n",
       "    </tr>\n",
       "  </thead>\n",
       "  <tbody>\n",
       "    <tr>\n",
       "      <th>count</th>\n",
       "      <td>891.000000</td>\n",
       "      <td>891.000000</td>\n",
       "      <td>891.000000</td>\n",
       "      <td>891.000000</td>\n",
       "      <td>891.000000</td>\n",
       "      <td>891.000000</td>\n",
       "    </tr>\n",
       "    <tr>\n",
       "      <th>mean</th>\n",
       "      <td>0.383838</td>\n",
       "      <td>2.308642</td>\n",
       "      <td>29.361582</td>\n",
       "      <td>0.523008</td>\n",
       "      <td>0.381594</td>\n",
       "      <td>32.204208</td>\n",
       "    </tr>\n",
       "    <tr>\n",
       "      <th>std</th>\n",
       "      <td>0.486592</td>\n",
       "      <td>0.836071</td>\n",
       "      <td>13.019697</td>\n",
       "      <td>1.102743</td>\n",
       "      <td>0.806057</td>\n",
       "      <td>49.693429</td>\n",
       "    </tr>\n",
       "    <tr>\n",
       "      <th>min</th>\n",
       "      <td>0.000000</td>\n",
       "      <td>1.000000</td>\n",
       "      <td>0.420000</td>\n",
       "      <td>0.000000</td>\n",
       "      <td>0.000000</td>\n",
       "      <td>0.000000</td>\n",
       "    </tr>\n",
       "    <tr>\n",
       "      <th>25%</th>\n",
       "      <td>0.000000</td>\n",
       "      <td>2.000000</td>\n",
       "      <td>22.000000</td>\n",
       "      <td>0.000000</td>\n",
       "      <td>0.000000</td>\n",
       "      <td>7.910400</td>\n",
       "    </tr>\n",
       "    <tr>\n",
       "      <th>50%</th>\n",
       "      <td>0.000000</td>\n",
       "      <td>3.000000</td>\n",
       "      <td>28.000000</td>\n",
       "      <td>0.000000</td>\n",
       "      <td>0.000000</td>\n",
       "      <td>14.454200</td>\n",
       "    </tr>\n",
       "    <tr>\n",
       "      <th>75%</th>\n",
       "      <td>1.000000</td>\n",
       "      <td>3.000000</td>\n",
       "      <td>35.000000</td>\n",
       "      <td>1.000000</td>\n",
       "      <td>0.000000</td>\n",
       "      <td>31.000000</td>\n",
       "    </tr>\n",
       "    <tr>\n",
       "      <th>max</th>\n",
       "      <td>1.000000</td>\n",
       "      <td>3.000000</td>\n",
       "      <td>80.000000</td>\n",
       "      <td>8.000000</td>\n",
       "      <td>6.000000</td>\n",
       "      <td>512.329200</td>\n",
       "    </tr>\n",
       "  </tbody>\n",
       "</table>\n",
       "</div>"
      ],
      "text/plain": [
       "         Survived      Pclass         Age       SibSp       Parch        Fare\n",
       "count  891.000000  891.000000  891.000000  891.000000  891.000000  891.000000\n",
       "mean     0.383838    2.308642   29.361582    0.523008    0.381594   32.204208\n",
       "std      0.486592    0.836071   13.019697    1.102743    0.806057   49.693429\n",
       "min      0.000000    1.000000    0.420000    0.000000    0.000000    0.000000\n",
       "25%      0.000000    2.000000   22.000000    0.000000    0.000000    7.910400\n",
       "50%      0.000000    3.000000   28.000000    0.000000    0.000000   14.454200\n",
       "75%      1.000000    3.000000   35.000000    1.000000    0.000000   31.000000\n",
       "max      1.000000    3.000000   80.000000    8.000000    6.000000  512.329200"
      ]
     },
     "execution_count": 18,
     "metadata": {},
     "output_type": "execute_result"
    }
   ],
   "source": [
    "data1.info() # above columns no longer exist\n",
    "data1.describe()"
   ]
  },
  {
   "cell_type": "code",
   "execution_count": 19,
   "metadata": {},
   "outputs": [
    {
     "name": "stdout",
     "output_type": "stream",
     "text": [
      "train.csv null fields: \n",
      "Survived    0\n",
      "Pclass      0\n",
      "Name        0\n",
      "Sex         0\n",
      "Age         0\n",
      "SibSp       0\n",
      "Parch       0\n",
      "Fare        0\n",
      "Embarked    0\n",
      "dtype: int64\n",
      "----------\n",
      "test.csv null fields:\n",
      "PassengerId      0\n",
      "Pclass           0\n",
      "Name             0\n",
      "Sex              0\n",
      "Age              0\n",
      "SibSp            0\n",
      "Parch            0\n",
      "Ticket           0\n",
      "Fare             0\n",
      "Cabin          327\n",
      "Embarked         0\n",
      "dtype: int64\n"
     ]
    }
   ],
   "source": [
    "print(\"train.csv null fields: \")\n",
    "print(data1.isnull().sum())\n",
    "print(\"-\"*10)\n",
    "print(\"test.csv null fields:\")\n",
    "print(data_val.isnull().sum())"
   ]
  },
  {
   "cell_type": "markdown",
   "metadata": {},
   "source": [
    "# Feature Engineering\n",
    "- ie. making new fields to gather information \n"
   ]
  },
  {
   "cell_type": "code",
   "execution_count": 20,
   "metadata": {},
   "outputs": [],
   "source": [
    "for dataset in data_cleaner:\n",
    "    # get discrete variables\n",
    "    \n",
    "    # new column that describes the family size\n",
    "    dataset['FamilySize'] = dataset['SibSp'] + dataset['Parch']+1\n",
    "    \n",
    "    # check if a person was travellinga alone 1=yes\n",
    "    dataset['IsAlone'] = 1\n",
    "    dataset['IsAlone'].loc[dataset['FamilySize']>1] = 0\n",
    "    \n",
    "    # split the tile from the name: so \"Mr. Khan\" will be \"Mr.\" \"khan\"\n",
    "    dataset['Title'] = dataset['Name'].str.split(\", \", expand=True)[1].str.split(\".\", expand=True)[0]\n",
    "    \n",
    "    # continuous variables line $ will be put into bins ie, a range of values\n",
    "    # eg, x=$10 will be in the bin for x<=10\n",
    "    dataset['FareBin'] = pd.qcut(dataset['Fare'], 4)\n",
    "    dataset['AgeBin'] = pd.cut(dataset['Age'].astype(int), 5)"
   ]
  },
  {
   "cell_type": "markdown",
   "metadata": {},
   "source": [
    "## Look at Title field"
   ]
  },
  {
   "cell_type": "code",
   "execution_count": 21,
   "metadata": {},
   "outputs": [
    {
     "name": "stdout",
     "output_type": "stream",
     "text": [
      "titles: Mr              517\n",
      "Miss            182\n",
      "Mrs             125\n",
      "Master           40\n",
      "Dr                7\n",
      "Rev               6\n",
      "Mlle              2\n",
      "Col               2\n",
      "Major             2\n",
      "Ms                1\n",
      "Sir               1\n",
      "Capt              1\n",
      "Mme               1\n",
      "Lady              1\n",
      "the Countess      1\n",
      "Jonkheer          1\n",
      "Don               1\n",
      "Name: Title, dtype: int64\n"
     ]
    }
   ],
   "source": [
    "# clean up rare title names\n",
    "print(\"titles:\",data1['Title'].value_counts())\n",
    "# look and see there is only one person titled as \"Don\" "
   ]
  },
  {
   "cell_type": "code",
   "execution_count": 22,
   "metadata": {},
   "outputs": [
    {
     "name": "stdout",
     "output_type": "stream",
     "text": [
      "Mr              False\n",
      "Miss            False\n",
      "Mrs             False\n",
      "Master          False\n",
      "Dr               True\n",
      "Rev              True\n",
      "Mlle             True\n",
      "Col              True\n",
      "Major            True\n",
      "Ms               True\n",
      "Sir              True\n",
      "Capt             True\n",
      "Mme              True\n",
      "Lady             True\n",
      "the Countess     True\n",
      "Jonkheer         True\n",
      "Don              True\n",
      "Name: Title, dtype: bool\n"
     ]
    }
   ],
   "source": [
    "stat_min = 10\n",
    "# creates a true false series where\n",
    "# it checks if a specific title's occurence is less than stat_min\n",
    "title_names = (data1['Title'].value_counts()<stat_min)\n",
    "print(title_names)"
   ]
  },
  {
   "cell_type": "code",
   "execution_count": 24,
   "metadata": {},
   "outputs": [],
   "source": [
    "# replace all the title names that are set as True above with the title as 'Misc'\n",
    "data1['Title'] = data1['Title'].apply(lambda x: 'Misc' if title_names.loc[x] == True else x)"
   ]
  },
  {
   "cell_type": "code",
   "execution_count": 25,
   "metadata": {},
   "outputs": [
    {
     "name": "stdout",
     "output_type": "stream",
     "text": [
      "Mr        517\n",
      "Miss      182\n",
      "Mrs       125\n",
      "Master     40\n",
      "Misc       27\n",
      "Name: Title, dtype: int64\n"
     ]
    }
   ],
   "source": [
    "# result of abvoe .apply() and lambda function\n",
    "print(data1['Title'].value_counts())"
   ]
  },
  {
   "cell_type": "code",
   "execution_count": 26,
   "metadata": {},
   "outputs": [
    {
     "name": "stdout",
     "output_type": "stream",
     "text": [
      "<class 'pandas.core.frame.DataFrame'>\n",
      "RangeIndex: 891 entries, 0 to 890\n",
      "Data columns (total 14 columns):\n",
      "Survived      891 non-null int64\n",
      "Pclass        891 non-null int64\n",
      "Name          891 non-null object\n",
      "Sex           891 non-null object\n",
      "Age           891 non-null float64\n",
      "SibSp         891 non-null int64\n",
      "Parch         891 non-null int64\n",
      "Fare          891 non-null float64\n",
      "Embarked      891 non-null object\n",
      "FamilySize    891 non-null int64\n",
      "IsAlone       891 non-null int64\n",
      "Title         891 non-null object\n",
      "FareBin       891 non-null category\n",
      "AgeBin        891 non-null category\n",
      "dtypes: category(2), float64(2), int64(6), object(4)\n",
      "memory usage: 85.5+ KB\n",
      "<class 'pandas.core.frame.DataFrame'>\n",
      "RangeIndex: 418 entries, 0 to 417\n",
      "Data columns (total 16 columns):\n",
      "PassengerId    418 non-null int64\n",
      "Pclass         418 non-null int64\n",
      "Name           418 non-null object\n",
      "Sex            418 non-null object\n",
      "Age            418 non-null float64\n",
      "SibSp          418 non-null int64\n",
      "Parch          418 non-null int64\n",
      "Ticket         418 non-null object\n",
      "Fare           418 non-null float64\n",
      "Cabin          91 non-null object\n",
      "Embarked       418 non-null object\n",
      "FamilySize     418 non-null int64\n",
      "IsAlone        418 non-null int64\n",
      "Title          418 non-null object\n",
      "FareBin        418 non-null category\n",
      "AgeBin         418 non-null category\n",
      "dtypes: category(2), float64(2), int64(6), object(6)\n",
      "memory usage: 46.8+ KB\n"
     ]
    }
   ],
   "source": [
    "data1.info()\n",
    "data_val.info()"
   ]
  },
  {
   "cell_type": "markdown",
   "metadata": {},
   "source": [
    "# Convert Formats\n",
    "- need to convert categorical data to dummy variables for math analysis\n"
   ]
  },
  {
   "cell_type": "code",
   "execution_count": 27,
   "metadata": {},
   "outputs": [],
   "source": [
    "label = LabelEncoder()"
   ]
  },
  {
   "cell_type": "code",
   "execution_count": 28,
   "metadata": {},
   "outputs": [
    {
     "name": "stdout",
     "output_type": "stream",
     "text": [
      "[1 0 1 1 0 1 0 1 0 1 1 1 0 1 0 0 1 1 0 0 1 1 0 1 0 1 0 1 1 1 1 1 0 0 1 1 0\n",
      " 0 1 1 1 1 1 0 0 1 1 1 0 0 1 1 0 0 1 1 1 1 1 0 1 1 1 0 1 0 0 1 1 0 0 1 0 1\n",
      " 0 1 1 0 1 0 1 1 1 1 1 1 0 0 0 1 0 1 0 1 1 1 0 1 0 1 0 1 1 1 0 1 1 1 1 1 1\n",
      " 0 0 0 0 1 1 0 1 0 0 1 0 1 1 0 1 0 1 1 1 1 0 1 1 1 1 1 0 1 0 0 1 1 1 1 1 1\n",
      " 1 1 0 1 1 0 1 1 0 0 1 0 0 1 0 1 1 0 1 1 0 0 1 1 1 1 1 0 0 1 0 0 1 1 0 1 0\n",
      " 1 0 1 0 1 1 1 1 1 1 1 1 0 1 0 0 1 1 0 1 1 0 1 0 1 1 1 1 0 0 1 0 1 0 1 0 1\n",
      " 0 1 0 0 1 0 1 1 1 0 1 1 1 1 1 1 0 0 0 0 1 1 1 1 0 1 0 0 0 1 1 1 1 1 1 1 0\n",
      " 1 1 1 0 0 1 1 1 1 0 1 1 1 0 0 1 0 1 1 1 1 0 1 0 0 0 1 1 1 1 1 1 0 1 1 1 1\n",
      " 0 1 1 1 1 1 1 1 0 0 1 1 1 0 1 1 1 0 0 0 1 1 1 1 1 1 1 1 0 1 0 1 1 1 0 1 1\n",
      " 0 1 1 1 1 1 1 1 1 1 0 1 0 1 0 1 0 0 1 1 1 0 1 0 1 1 0 1 0 0 1 0 0 1 0 0 1\n",
      " 1 0 1 1 0 0 0 1 1 1 1 1 0 0 1 0 1 1 1 1 1 0 1 1 1 0 1 0 1 1 0 1 0 1 1 1 1\n",
      " 1 0 0 0 0 0 1 0 1 1 1]\n"
     ]
    }
   ],
   "source": [
    "print(label.fit_transform(dataset['Sex']))"
   ]
  },
  {
   "cell_type": "code",
   "execution_count": 29,
   "metadata": {},
   "outputs": [],
   "source": [
    "for dataset in data_cleaner:\n",
    "    # see above for what will be filled into this column\n",
    "    dataset['Sex_Code'] = label.fit_transform(dataset['Sex'])\n",
    "    dataset['Embarked_Code'] = label.fit_transform(dataset['Embarked'])\n",
    "    dataset['Title_Code'] = label.fit_transform(dataset['Title'])\n",
    "    dataset['AgeBin_Code'] = label.fit_transform(dataset['AgeBin'])\n",
    "    dataset['FareBin_Code'] = label.fit_transform(dataset['FareBin'])"
   ]
  },
  {
   "cell_type": "code",
   "execution_count": 30,
   "metadata": {},
   "outputs": [
    {
     "name": "stdout",
     "output_type": "stream",
     "text": [
      "0    2\n",
      "1    0\n",
      "2    2\n",
      "3    2\n",
      "4    2\n",
      "Name: Embarked_Code, dtype: int64\n",
      "0    3\n",
      "1    4\n",
      "2    2\n",
      "3    4\n",
      "4    3\n",
      "Name: Title_Code, dtype: int64\n",
      "0    1\n",
      "1    2\n",
      "2    1\n",
      "3    2\n",
      "4    2\n",
      "Name: AgeBin_Code, dtype: int64\n",
      "0    0\n",
      "1    3\n",
      "2    1\n",
      "3    3\n",
      "4    1\n",
      "Name: FareBin_Code, dtype: int64\n"
     ]
    }
   ],
   "source": [
    "print(data1['Embarked_Code'].head())\n",
    "print(data1['Title_Code'].head())\n",
    "print(data1['AgeBin_Code'].head())\n",
    "print(data1['FareBin_Code'].head())"
   ]
  },
  {
   "cell_type": "code",
   "execution_count": 31,
   "metadata": {},
   "outputs": [],
   "source": [
    "# target outcome\n",
    "Target = ['Survived']"
   ]
  },
  {
   "cell_type": "code",
   "execution_count": 32,
   "metadata": {},
   "outputs": [],
   "source": [
    "# independet variables/features/x\n",
    "#pretty name/values for charts\n",
    "data1_x = ['Sex','Pclass', 'Embarked', 'Title','SibSp', 'Parch', 'Age', 'Fare', 'FamilySize', 'IsAlone'] \n",
    "#coded for algorithm calculation\n",
    "data1_x_calc = ['Sex_Code','Pclass', 'Embarked_Code', 'Title_Code','SibSp', 'Parch', 'Age', 'Fare'] \n",
    "data1_xy =  Target + data1_x"
   ]
  },
  {
   "cell_type": "code",
   "execution_count": 33,
   "metadata": {},
   "outputs": [],
   "source": [
    "# features in bins to remove continuous data\n",
    "data1_x_bin = ['Sex_Code','Pclass', 'Embarked_Code', 'Title_Code', 'FamilySize', 'AgeBin_Code', 'FareBin_Code']\n",
    "data1_xy_bin = Target + data1_x_bin"
   ]
  },
  {
   "cell_type": "code",
   "execution_count": 38,
   "metadata": {},
   "outputs": [],
   "source": [
    "#define x and y variables for dummy features original\n",
    "data1_dummy = pd.get_dummies(data1[data1_x])\n",
    "data1_x_dummy = data1_dummy.columns.tolist()\n",
    "data1_xy_dummy = Target + data1_x_dummy"
   ]
  },
  {
   "cell_type": "code",
   "execution_count": 34,
   "metadata": {},
   "outputs": [
    {
     "ename": "NameError",
     "evalue": "name 'data1_dummy' is not defined",
     "output_type": "error",
     "traceback": [
      "\u001b[1;31m---------------------------------------------------------------------------\u001b[0m",
      "\u001b[1;31mNameError\u001b[0m                                 Traceback (most recent call last)",
      "\u001b[1;32m<ipython-input-34-05d620419a76>\u001b[0m in \u001b[0;36m<module>\u001b[1;34m()\u001b[0m\n\u001b[1;32m----> 1\u001b[1;33m \u001b[0mdata1_dummy\u001b[0m\u001b[1;33m.\u001b[0m\u001b[0mhead\u001b[0m\u001b[1;33m(\u001b[0m\u001b[1;33m)\u001b[0m\u001b[1;33m\u001b[0m\u001b[0m\n\u001b[0m",
      "\u001b[1;31mNameError\u001b[0m: name 'data1_dummy' is not defined"
     ]
    }
   ],
   "source": [
    "data1_dummy.head()"
   ]
  },
  {
   "cell_type": "markdown",
   "metadata": {},
   "source": [
    "# Splitting Training and Testing Data\n",
    "- train.csv data will have a 75/25 split"
   ]
  },
  {
   "cell_type": "code",
   "execution_count": 35,
   "metadata": {},
   "outputs": [],
   "source": [
    "# training on features\n",
    "train1_x, test1_x, train1_y, test1_y = model_selection.train_test_split(data1[data1_x_calc], data1[Target], random_state = 0)"
   ]
  },
  {
   "cell_type": "code",
   "execution_count": 36,
   "metadata": {},
   "outputs": [],
   "source": [
    "# training on bin features\n",
    "train1_x_bin, test1_x_bin, train1_y_bin, test1_y_bin = model_selection.train_test_split(data1[data1_x_bin], data1[Target] , random_state = 0)"
   ]
  },
  {
   "cell_type": "code",
   "execution_count": 39,
   "metadata": {},
   "outputs": [],
   "source": [
    "# training on dummy features\n",
    "train1_x_dummy, test1_x_dummy, train1_y_dummy, test1_y_dummy = model_selection.train_test_split(data1_dummy[data1_x_dummy], data1[Target], random_state = 0)\n",
    "# note (very important for analysis): \n",
    "#random_state = 0 becuase we want the same randomness for the bin features as well as the training features"
   ]
  },
  {
   "cell_type": "code",
   "execution_count": 40,
   "metadata": {},
   "outputs": [
    {
     "name": "stdout",
     "output_type": "stream",
     "text": [
      "Data1 Shape: (891, 19)\n",
      "Train1 Shape: (668, 8)\n",
      "Test1 Shape: (223, 8)\n"
     ]
    }
   ],
   "source": [
    "print(\"Data1 Shape: {}\".format(data1.shape))\n",
    "print(\"Train1 Shape: {}\".format(train1_x.shape))\n",
    "print(\"Test1 Shape: {}\".format(test1_x.shape))"
   ]
  },
  {
   "cell_type": "code",
   "execution_count": 41,
   "metadata": {},
   "outputs": [
    {
     "data": {
      "text/html": [
       "<div>\n",
       "<style scoped>\n",
       "    .dataframe tbody tr th:only-of-type {\n",
       "        vertical-align: middle;\n",
       "    }\n",
       "\n",
       "    .dataframe tbody tr th {\n",
       "        vertical-align: top;\n",
       "    }\n",
       "\n",
       "    .dataframe thead th {\n",
       "        text-align: right;\n",
       "    }\n",
       "</style>\n",
       "<table border=\"1\" class=\"dataframe\">\n",
       "  <thead>\n",
       "    <tr style=\"text-align: right;\">\n",
       "      <th></th>\n",
       "      <th>Sex_Code</th>\n",
       "      <th>Pclass</th>\n",
       "      <th>Embarked_Code</th>\n",
       "      <th>Title_Code</th>\n",
       "      <th>FamilySize</th>\n",
       "      <th>AgeBin_Code</th>\n",
       "      <th>FareBin_Code</th>\n",
       "    </tr>\n",
       "  </thead>\n",
       "  <tbody>\n",
       "    <tr>\n",
       "      <th>105</th>\n",
       "      <td>1</td>\n",
       "      <td>3</td>\n",
       "      <td>2</td>\n",
       "      <td>3</td>\n",
       "      <td>1</td>\n",
       "      <td>1</td>\n",
       "      <td>0</td>\n",
       "    </tr>\n",
       "    <tr>\n",
       "      <th>68</th>\n",
       "      <td>0</td>\n",
       "      <td>3</td>\n",
       "      <td>2</td>\n",
       "      <td>2</td>\n",
       "      <td>7</td>\n",
       "      <td>1</td>\n",
       "      <td>1</td>\n",
       "    </tr>\n",
       "    <tr>\n",
       "      <th>253</th>\n",
       "      <td>1</td>\n",
       "      <td>3</td>\n",
       "      <td>2</td>\n",
       "      <td>3</td>\n",
       "      <td>2</td>\n",
       "      <td>1</td>\n",
       "      <td>2</td>\n",
       "    </tr>\n",
       "    <tr>\n",
       "      <th>320</th>\n",
       "      <td>1</td>\n",
       "      <td>3</td>\n",
       "      <td>2</td>\n",
       "      <td>3</td>\n",
       "      <td>1</td>\n",
       "      <td>1</td>\n",
       "      <td>0</td>\n",
       "    </tr>\n",
       "    <tr>\n",
       "      <th>706</th>\n",
       "      <td>0</td>\n",
       "      <td>2</td>\n",
       "      <td>2</td>\n",
       "      <td>4</td>\n",
       "      <td>1</td>\n",
       "      <td>2</td>\n",
       "      <td>1</td>\n",
       "    </tr>\n",
       "  </tbody>\n",
       "</table>\n",
       "</div>"
      ],
      "text/plain": [
       "     Sex_Code  Pclass  Embarked_Code  Title_Code  FamilySize  AgeBin_Code  \\\n",
       "105         1       3              2           3           1            1   \n",
       "68          0       3              2           2           7            1   \n",
       "253         1       3              2           3           2            1   \n",
       "320         1       3              2           3           1            1   \n",
       "706         0       2              2           4           1            2   \n",
       "\n",
       "     FareBin_Code  \n",
       "105             0  \n",
       "68              1  \n",
       "253             2  \n",
       "320             0  \n",
       "706             1  "
      ]
     },
     "execution_count": 41,
     "metadata": {},
     "output_type": "execute_result"
    }
   ],
   "source": [
    "train1_x_bin.head()"
   ]
  },
  {
   "cell_type": "markdown",
   "metadata": {},
   "source": [
    "# Analysis with Statistics"
   ]
  },
  {
   "cell_type": "code",
   "execution_count": 42,
   "metadata": {},
   "outputs": [
    {
     "name": "stdout",
     "output_type": "stream",
     "text": [
      "Survival Correlation by:  Sex\n",
      "      Sex  Survived\n",
      "0  female  0.742038\n",
      "1    male  0.188908\n",
      "---------- \n",
      "\n",
      "Survival Correlation by:  Pclass\n",
      "   Pclass  Survived\n",
      "0       1  0.629630\n",
      "1       2  0.472826\n",
      "2       3  0.242363\n",
      "---------- \n",
      "\n",
      "Survival Correlation by:  Embarked\n",
      "  Embarked  Survived\n",
      "0        C  0.553571\n",
      "1        Q  0.389610\n",
      "2        S  0.339009\n",
      "---------- \n",
      "\n",
      "Survival Correlation by:  Title\n",
      "    Title  Survived\n",
      "0  Master  0.575000\n",
      "1    Misc  0.444444\n",
      "2    Miss  0.697802\n",
      "3      Mr  0.156673\n",
      "4     Mrs  0.792000\n",
      "---------- \n",
      "\n",
      "Survival Correlation by:  SibSp\n",
      "   SibSp  Survived\n",
      "0      0  0.345395\n",
      "1      1  0.535885\n",
      "2      2  0.464286\n",
      "3      3  0.250000\n",
      "4      4  0.166667\n",
      "5      5  0.000000\n",
      "6      8  0.000000\n",
      "---------- \n",
      "\n",
      "Survival Correlation by:  Parch\n",
      "   Parch  Survived\n",
      "0      0  0.343658\n",
      "1      1  0.550847\n",
      "2      2  0.500000\n",
      "3      3  0.600000\n",
      "4      4  0.000000\n",
      "5      5  0.200000\n",
      "6      6  0.000000\n",
      "---------- \n",
      "\n",
      "Survival Correlation by:  FamilySize\n",
      "   FamilySize  Survived\n",
      "0           1  0.303538\n",
      "1           2  0.552795\n",
      "2           3  0.578431\n",
      "3           4  0.724138\n",
      "4           5  0.200000\n",
      "5           6  0.136364\n",
      "6           7  0.333333\n",
      "7           8  0.000000\n",
      "8          11  0.000000\n",
      "---------- \n",
      "\n",
      "Survival Correlation by:  IsAlone\n",
      "   IsAlone  Survived\n",
      "0        0  0.505650\n",
      "1        1  0.303538\n",
      "---------- \n",
      "\n"
     ]
    }
   ],
   "source": [
    "for x in data1_x:\n",
    "    # look at all not 'float64' features\n",
    "    if data1[x].dtype != 'float64':\n",
    "        print(\"Survival Correlation by: \", x)\n",
    "        print(data1[[x, Target[0]]].groupby(x, as_index=False).mean())\n",
    "        print('-'*10, '\\n')"
   ]
  },
  {
   "cell_type": "markdown",
   "metadata": {},
   "source": [
    "- Above block has alot of info \n",
    "- we can see what the data is tellin us:\n",
    "    - more females survived than males\n",
    "    - people with a pasenger class of 1 had higher change of survival\n",
    "    - etc"
   ]
  },
  {
   "cell_type": "code",
   "execution_count": 43,
   "metadata": {},
   "outputs": [
    {
     "name": "stdout",
     "output_type": "stream",
     "text": [
      "Survived    0    1\n",
      "Title             \n",
      "Master     17   23\n",
      "Misc       15   12\n",
      "Miss       55  127\n",
      "Mr        436   81\n",
      "Mrs        26   99\n"
     ]
    }
   ],
   "source": [
    "# another way of looking at information\n",
    "print(pd.crosstab(data1['Title'],data1[Target[0]]))"
   ]
  },
  {
   "cell_type": "markdown",
   "metadata": {},
   "source": [
    "- more masters survived then dies\n",
    "- more women (married or otherwsie) survived then died\n",
    "- a lot of men died\n",
    "- etc"
   ]
  },
  {
   "cell_type": "code",
   "execution_count": 139,
   "metadata": {},
   "outputs": [],
   "source": [
    "# skip the graphing "
   ]
  },
  {
   "cell_type": "markdown",
   "metadata": {},
   "source": [
    "# Model Data\n",
    "- have to teach machine how to think not what to think\n",
    "- four categories of ML: classification, regression, clustering, dimensionality, reduction. \n",
    "- Tinanic Dataset is a classification type (0=died, 1=survived)"
   ]
  },
  {
   "cell_type": "markdown",
   "metadata": {},
   "source": [
    "## How to Choose ML Algorithm\n",
    "- __No Free Lunch Theorem (NFLT)__: there is no super algorithm, that works best in all situations\n",
    "- therefore try multiple algorithms and compare with scenario\n",
    "- afterwards we have to tune their parameters and compare with other MLAs again"
   ]
  },
  {
   "cell_type": "code",
   "execution_count": 44,
   "metadata": {},
   "outputs": [],
   "source": [
    "# machine learning algorithms (MLA) list\n",
    "# They are selected and initalized here\n",
    "MLA = [\n",
    "    # Ensemble Methods\n",
    "    ensemble.AdaBoostClassifier(), \n",
    "    ensemble.BaggingClassifier(), \n",
    "    ensemble.ExtraTreesClassifier(), \n",
    "    ensemble.GradientBoostingClassifier(), \n",
    "    ensemble.RandomForestClassifier(),\n",
    "    \n",
    "    # Gaussian Processes\n",
    "    gaussian_process.GaussianProcessClassifier(), \n",
    "    \n",
    "    # GLM\n",
    "    linear_model.LogisticRegressionCV(), \n",
    "    linear_model.PassiveAggressiveClassifier(), \n",
    "    linear_model.RidgeClassifierCV(), \n",
    "    linear_model.SGDClassifier(),\n",
    "    linear_model.Perceptron(),\n",
    "    \n",
    "    # Naive Bayes\n",
    "    naive_bayes.BernoulliNB(), \n",
    "    naive_bayes.GaussianNB(),\n",
    "    \n",
    "    # Nearest Neighbor\n",
    "    neighbors.KNeighborsClassifier(),\n",
    "    \n",
    "    # SVM\n",
    "    svm.SVC(probability=True),\n",
    "    svm.NuSVC(probability=True), \n",
    "    svm.LinearSVC(), \n",
    "    \n",
    "    # Trees\n",
    "    tree.DecisionTreeClassifier(), \n",
    "    tree.ExtraTreeClassifier(), \n",
    "    \n",
    "    \n",
    "    # Discriminant Analysis\n",
    "    discriminant_analysis.LinearDiscriminantAnalysis(),\n",
    "    discriminant_analysis.QuadraticDiscriminantAnalysis(),\n",
    "    \n",
    "    # xgboost\n",
    "    # need to import the classifier\n",
    "]"
   ]
  },
  {
   "cell_type": "code",
   "execution_count": 45,
   "metadata": {},
   "outputs": [],
   "source": [
    "# split dataset in cross-validation \n",
    "cv_split = model_selection.ShuffleSplit(n_splits=10, test_size=0.3, train_size=0.6, random_state=0)"
   ]
  },
  {
   "cell_type": "code",
   "execution_count": 46,
   "metadata": {},
   "outputs": [],
   "source": [
    "# Create table for MLAs for comparison\n",
    "MLA_columns = [\n",
    "    'MLA Name', \n",
    "    'MLA Parameters', \n",
    "    'MLA Train Accuracy Mean',\n",
    "    'MLA Test Accuracy Mean', \n",
    "    'MLA Test Accuracy 3*STD', \n",
    "    'MLA Time'\n",
    "]\n",
    "MLA_compare = pd.DataFrame(columns=MLA_columns)"
   ]
  },
  {
   "cell_type": "code",
   "execution_count": 47,
   "metadata": {},
   "outputs": [],
   "source": [
    "# create an other table to compare predictions\n",
    "MLA_predict = data1[Target]"
   ]
  },
  {
   "cell_type": "code",
   "execution_count": 48,
   "metadata": {},
   "outputs": [],
   "source": [
    "row_index = 0\n",
    "for alg in MLA:\n",
    "    # set the name and parameters\n",
    "    MLA_name = alg.__class__.__name__\n",
    "    MLA_compare.loc[row_index, 'MLA Name'] = MLA_name\n",
    "    MLA_compare.loc[row_index, 'MLA Parameters'] = str(alg.get_params())\n",
    "    \n",
    "    # score move with cross validation\n",
    "    cv_results = model_selection.cross_validate(alg, data1[data1_x_bin], data1[Target], cv=cv_split)\n",
    "    \n",
    "    MLA_compare.loc[row_index, 'MLA Time'] = cv_results['fit_time'].mean()\n",
    "    MLA_compare.loc[row_index, 'MLA Train Accuracy Mean'] = cv_results['train_score'].mean()\n",
    "    MLA_compare.loc[row_index, 'MLA Test Accuracy Mean'] = cv_results['test_score'].mean()\n",
    "    \n",
    "    # if non-bias random sample then +/- 3 std from mean will capture 99.7% of subsets\n",
    "    MLA_compare.loc[row_index, 'MLA Test Accuracy 3*STD'] = cv_results['test_score'].std()*3 # worst case scenario\n",
    "    \n",
    "    # save MLA predictions (for later use)\n",
    "    alg.fit(data1[data1_x_bin], data1[Target])\n",
    "    MLA_predict[MLA_name] = alg.predict(data1[data1_x_bin])\n",
    "    \n",
    "    row_index+=1\n",
    "    "
   ]
  },
  {
   "cell_type": "code",
   "execution_count": 49,
   "metadata": {},
   "outputs": [
    {
     "data": {
      "text/html": [
       "<div>\n",
       "<style scoped>\n",
       "    .dataframe tbody tr th:only-of-type {\n",
       "        vertical-align: middle;\n",
       "    }\n",
       "\n",
       "    .dataframe tbody tr th {\n",
       "        vertical-align: top;\n",
       "    }\n",
       "\n",
       "    .dataframe thead th {\n",
       "        text-align: right;\n",
       "    }\n",
       "</style>\n",
       "<table border=\"1\" class=\"dataframe\">\n",
       "  <thead>\n",
       "    <tr style=\"text-align: right;\">\n",
       "      <th></th>\n",
       "      <th>MLA Name</th>\n",
       "      <th>MLA Parameters</th>\n",
       "      <th>MLA Train Accuracy Mean</th>\n",
       "      <th>MLA Test Accuracy Mean</th>\n",
       "      <th>MLA Test Accuracy 3*STD</th>\n",
       "      <th>MLA Time</th>\n",
       "    </tr>\n",
       "  </thead>\n",
       "  <tbody>\n",
       "    <tr>\n",
       "      <th>14</th>\n",
       "      <td>SVC</td>\n",
       "      <td>{'C': 1.0, 'cache_size': 200, 'class_weight': ...</td>\n",
       "      <td>0.837266</td>\n",
       "      <td>0.826119</td>\n",
       "      <td>0.0453876</td>\n",
       "      <td>0.0423297</td>\n",
       "    </tr>\n",
       "    <tr>\n",
       "      <th>4</th>\n",
       "      <td>RandomForestClassifier</td>\n",
       "      <td>{'bootstrap': True, 'class_weight': None, 'cri...</td>\n",
       "      <td>0.891199</td>\n",
       "      <td>0.825746</td>\n",
       "      <td>0.0666115</td>\n",
       "      <td>0.0162218</td>\n",
       "    </tr>\n",
       "    <tr>\n",
       "      <th>2</th>\n",
       "      <td>ExtraTreesClassifier</td>\n",
       "      <td>{'bootstrap': False, 'class_weight': None, 'cr...</td>\n",
       "      <td>0.895131</td>\n",
       "      <td>0.822761</td>\n",
       "      <td>0.0586486</td>\n",
       "      <td>0.0181648</td>\n",
       "    </tr>\n",
       "    <tr>\n",
       "      <th>15</th>\n",
       "      <td>NuSVC</td>\n",
       "      <td>{'cache_size': 200, 'class_weight': None, 'coe...</td>\n",
       "      <td>0.835768</td>\n",
       "      <td>0.822761</td>\n",
       "      <td>0.0493681</td>\n",
       "      <td>0.0487341</td>\n",
       "    </tr>\n",
       "    <tr>\n",
       "      <th>3</th>\n",
       "      <td>GradientBoostingClassifier</td>\n",
       "      <td>{'criterion': 'friedman_mse', 'init': None, 'l...</td>\n",
       "      <td>0.866667</td>\n",
       "      <td>0.822015</td>\n",
       "      <td>0.0529916</td>\n",
       "      <td>0.0768045</td>\n",
       "    </tr>\n",
       "    <tr>\n",
       "      <th>17</th>\n",
       "      <td>DecisionTreeClassifier</td>\n",
       "      <td>{'class_weight': None, 'criterion': 'gini', 'm...</td>\n",
       "      <td>0.895131</td>\n",
       "      <td>0.821269</td>\n",
       "      <td>0.0556221</td>\n",
       "      <td>0.00240149</td>\n",
       "    </tr>\n",
       "    <tr>\n",
       "      <th>1</th>\n",
       "      <td>BaggingClassifier</td>\n",
       "      <td>{'base_estimator': None, 'bootstrap': True, 'b...</td>\n",
       "      <td>0.890637</td>\n",
       "      <td>0.820149</td>\n",
       "      <td>0.0570347</td>\n",
       "      <td>0.0205571</td>\n",
       "    </tr>\n",
       "    <tr>\n",
       "      <th>18</th>\n",
       "      <td>ExtraTreeClassifier</td>\n",
       "      <td>{'class_weight': None, 'criterion': 'gini', 'm...</td>\n",
       "      <td>0.895131</td>\n",
       "      <td>0.814179</td>\n",
       "      <td>0.0574724</td>\n",
       "      <td>0.00200169</td>\n",
       "    </tr>\n",
       "    <tr>\n",
       "      <th>13</th>\n",
       "      <td>KNeighborsClassifier</td>\n",
       "      <td>{'algorithm': 'auto', 'leaf_size': 30, 'metric...</td>\n",
       "      <td>0.850375</td>\n",
       "      <td>0.813806</td>\n",
       "      <td>0.0690863</td>\n",
       "      <td>0.00320194</td>\n",
       "    </tr>\n",
       "    <tr>\n",
       "      <th>0</th>\n",
       "      <td>AdaBoostClassifier</td>\n",
       "      <td>{'algorithm': 'SAMME.R', 'base_estimator': Non...</td>\n",
       "      <td>0.820412</td>\n",
       "      <td>0.81194</td>\n",
       "      <td>0.0498606</td>\n",
       "      <td>0.0949753</td>\n",
       "    </tr>\n",
       "    <tr>\n",
       "      <th>5</th>\n",
       "      <td>GaussianProcessClassifier</td>\n",
       "      <td>{'copy_X_train': True, 'kernel': None, 'max_it...</td>\n",
       "      <td>0.871723</td>\n",
       "      <td>0.810448</td>\n",
       "      <td>0.0492537</td>\n",
       "      <td>0.222024</td>\n",
       "    </tr>\n",
       "    <tr>\n",
       "      <th>20</th>\n",
       "      <td>QuadraticDiscriminantAnalysis</td>\n",
       "      <td>{'priors': None, 'reg_param': 0.0, 'store_cova...</td>\n",
       "      <td>0.821536</td>\n",
       "      <td>0.80709</td>\n",
       "      <td>0.0810389</td>\n",
       "      <td>0.0021517</td>\n",
       "    </tr>\n",
       "    <tr>\n",
       "      <th>8</th>\n",
       "      <td>RidgeClassifierCV</td>\n",
       "      <td>{'alphas': (0.1, 1.0, 10.0), 'class_weight': N...</td>\n",
       "      <td>0.796629</td>\n",
       "      <td>0.79403</td>\n",
       "      <td>0.0360302</td>\n",
       "      <td>0.00365245</td>\n",
       "    </tr>\n",
       "    <tr>\n",
       "      <th>19</th>\n",
       "      <td>LinearDiscriminantAnalysis</td>\n",
       "      <td>{'n_components': None, 'priors': None, 'shrink...</td>\n",
       "      <td>0.796816</td>\n",
       "      <td>0.79403</td>\n",
       "      <td>0.0360302</td>\n",
       "      <td>0.00290217</td>\n",
       "    </tr>\n",
       "    <tr>\n",
       "      <th>16</th>\n",
       "      <td>LinearSVC</td>\n",
       "      <td>{'C': 1.0, 'class_weight': None, 'dual': True,...</td>\n",
       "      <td>0.797378</td>\n",
       "      <td>0.79291</td>\n",
       "      <td>0.0410533</td>\n",
       "      <td>0.0344735</td>\n",
       "    </tr>\n",
       "    <tr>\n",
       "      <th>6</th>\n",
       "      <td>LogisticRegressionCV</td>\n",
       "      <td>{'Cs': 10, 'class_weight': None, 'cv': None, '...</td>\n",
       "      <td>0.797004</td>\n",
       "      <td>0.790672</td>\n",
       "      <td>0.0653582</td>\n",
       "      <td>0.110228</td>\n",
       "    </tr>\n",
       "    <tr>\n",
       "      <th>12</th>\n",
       "      <td>GaussianNB</td>\n",
       "      <td>{'priors': None}</td>\n",
       "      <td>0.794757</td>\n",
       "      <td>0.781343</td>\n",
       "      <td>0.0874568</td>\n",
       "      <td>0.00305223</td>\n",
       "    </tr>\n",
       "    <tr>\n",
       "      <th>11</th>\n",
       "      <td>BernoulliNB</td>\n",
       "      <td>{'alpha': 1.0, 'binarize': 0.0, 'class_prior':...</td>\n",
       "      <td>0.785768</td>\n",
       "      <td>0.775373</td>\n",
       "      <td>0.0570347</td>\n",
       "      <td>0.00235171</td>\n",
       "    </tr>\n",
       "    <tr>\n",
       "      <th>10</th>\n",
       "      <td>Perceptron</td>\n",
       "      <td>{'alpha': 0.0001, 'class_weight': None, 'eta0'...</td>\n",
       "      <td>0.740075</td>\n",
       "      <td>0.728731</td>\n",
       "      <td>0.162221</td>\n",
       "      <td>0.00290291</td>\n",
       "    </tr>\n",
       "    <tr>\n",
       "      <th>9</th>\n",
       "      <td>SGDClassifier</td>\n",
       "      <td>{'alpha': 0.0001, 'average': False, 'class_wei...</td>\n",
       "      <td>0.695506</td>\n",
       "      <td>0.691791</td>\n",
       "      <td>0.335866</td>\n",
       "      <td>0.00275249</td>\n",
       "    </tr>\n",
       "    <tr>\n",
       "      <th>7</th>\n",
       "      <td>PassiveAggressiveClassifier</td>\n",
       "      <td>{'C': 1.0, 'average': False, 'class_weight': N...</td>\n",
       "      <td>0.681648</td>\n",
       "      <td>0.690299</td>\n",
       "      <td>0.310702</td>\n",
       "      <td>0.00260174</td>\n",
       "    </tr>\n",
       "  </tbody>\n",
       "</table>\n",
       "</div>"
      ],
      "text/plain": [
       "                         MLA Name  \\\n",
       "14                            SVC   \n",
       "4          RandomForestClassifier   \n",
       "2            ExtraTreesClassifier   \n",
       "15                          NuSVC   \n",
       "3      GradientBoostingClassifier   \n",
       "17         DecisionTreeClassifier   \n",
       "1               BaggingClassifier   \n",
       "18            ExtraTreeClassifier   \n",
       "13           KNeighborsClassifier   \n",
       "0              AdaBoostClassifier   \n",
       "5       GaussianProcessClassifier   \n",
       "20  QuadraticDiscriminantAnalysis   \n",
       "8               RidgeClassifierCV   \n",
       "19     LinearDiscriminantAnalysis   \n",
       "16                      LinearSVC   \n",
       "6            LogisticRegressionCV   \n",
       "12                     GaussianNB   \n",
       "11                    BernoulliNB   \n",
       "10                     Perceptron   \n",
       "9                   SGDClassifier   \n",
       "7     PassiveAggressiveClassifier   \n",
       "\n",
       "                                       MLA Parameters MLA Train Accuracy Mean  \\\n",
       "14  {'C': 1.0, 'cache_size': 200, 'class_weight': ...                0.837266   \n",
       "4   {'bootstrap': True, 'class_weight': None, 'cri...                0.891199   \n",
       "2   {'bootstrap': False, 'class_weight': None, 'cr...                0.895131   \n",
       "15  {'cache_size': 200, 'class_weight': None, 'coe...                0.835768   \n",
       "3   {'criterion': 'friedman_mse', 'init': None, 'l...                0.866667   \n",
       "17  {'class_weight': None, 'criterion': 'gini', 'm...                0.895131   \n",
       "1   {'base_estimator': None, 'bootstrap': True, 'b...                0.890637   \n",
       "18  {'class_weight': None, 'criterion': 'gini', 'm...                0.895131   \n",
       "13  {'algorithm': 'auto', 'leaf_size': 30, 'metric...                0.850375   \n",
       "0   {'algorithm': 'SAMME.R', 'base_estimator': Non...                0.820412   \n",
       "5   {'copy_X_train': True, 'kernel': None, 'max_it...                0.871723   \n",
       "20  {'priors': None, 'reg_param': 0.0, 'store_cova...                0.821536   \n",
       "8   {'alphas': (0.1, 1.0, 10.0), 'class_weight': N...                0.796629   \n",
       "19  {'n_components': None, 'priors': None, 'shrink...                0.796816   \n",
       "16  {'C': 1.0, 'class_weight': None, 'dual': True,...                0.797378   \n",
       "6   {'Cs': 10, 'class_weight': None, 'cv': None, '...                0.797004   \n",
       "12                                   {'priors': None}                0.794757   \n",
       "11  {'alpha': 1.0, 'binarize': 0.0, 'class_prior':...                0.785768   \n",
       "10  {'alpha': 0.0001, 'class_weight': None, 'eta0'...                0.740075   \n",
       "9   {'alpha': 0.0001, 'average': False, 'class_wei...                0.695506   \n",
       "7   {'C': 1.0, 'average': False, 'class_weight': N...                0.681648   \n",
       "\n",
       "   MLA Test Accuracy Mean MLA Test Accuracy 3*STD    MLA Time  \n",
       "14               0.826119               0.0453876   0.0423297  \n",
       "4                0.825746               0.0666115   0.0162218  \n",
       "2                0.822761               0.0586486   0.0181648  \n",
       "15               0.822761               0.0493681   0.0487341  \n",
       "3                0.822015               0.0529916   0.0768045  \n",
       "17               0.821269               0.0556221  0.00240149  \n",
       "1                0.820149               0.0570347   0.0205571  \n",
       "18               0.814179               0.0574724  0.00200169  \n",
       "13               0.813806               0.0690863  0.00320194  \n",
       "0                 0.81194               0.0498606   0.0949753  \n",
       "5                0.810448               0.0492537    0.222024  \n",
       "20                0.80709               0.0810389   0.0021517  \n",
       "8                 0.79403               0.0360302  0.00365245  \n",
       "19                0.79403               0.0360302  0.00290217  \n",
       "16                0.79291               0.0410533   0.0344735  \n",
       "6                0.790672               0.0653582    0.110228  \n",
       "12               0.781343               0.0874568  0.00305223  \n",
       "11               0.775373               0.0570347  0.00235171  \n",
       "10               0.728731                0.162221  0.00290291  \n",
       "9                0.691791                0.335866  0.00275249  \n",
       "7                0.690299                0.310702  0.00260174  "
      ]
     },
     "execution_count": 49,
     "metadata": {},
     "output_type": "execute_result"
    }
   ],
   "source": [
    "# print and sort MLA_compare dataframe\n",
    "MLA_compare.sort_values(by=['MLA Test Accuracy Mean'], ascending=False, inplace=True)\n",
    "MLA_compare"
   ]
  },
  {
   "cell_type": "code",
   "execution_count": 50,
   "metadata": {},
   "outputs": [
    {
     "data": {
      "text/html": [
       "<div>\n",
       "<style scoped>\n",
       "    .dataframe tbody tr th:only-of-type {\n",
       "        vertical-align: middle;\n",
       "    }\n",
       "\n",
       "    .dataframe tbody tr th {\n",
       "        vertical-align: top;\n",
       "    }\n",
       "\n",
       "    .dataframe thead th {\n",
       "        text-align: right;\n",
       "    }\n",
       "</style>\n",
       "<table border=\"1\" class=\"dataframe\">\n",
       "  <thead>\n",
       "    <tr style=\"text-align: right;\">\n",
       "      <th></th>\n",
       "      <th>Survived</th>\n",
       "      <th>AdaBoostClassifier</th>\n",
       "      <th>BaggingClassifier</th>\n",
       "      <th>ExtraTreesClassifier</th>\n",
       "      <th>GradientBoostingClassifier</th>\n",
       "      <th>RandomForestClassifier</th>\n",
       "      <th>GaussianProcessClassifier</th>\n",
       "      <th>LogisticRegressionCV</th>\n",
       "      <th>PassiveAggressiveClassifier</th>\n",
       "      <th>RidgeClassifierCV</th>\n",
       "      <th>...</th>\n",
       "      <th>BernoulliNB</th>\n",
       "      <th>GaussianNB</th>\n",
       "      <th>KNeighborsClassifier</th>\n",
       "      <th>SVC</th>\n",
       "      <th>NuSVC</th>\n",
       "      <th>LinearSVC</th>\n",
       "      <th>DecisionTreeClassifier</th>\n",
       "      <th>ExtraTreeClassifier</th>\n",
       "      <th>LinearDiscriminantAnalysis</th>\n",
       "      <th>QuadraticDiscriminantAnalysis</th>\n",
       "    </tr>\n",
       "  </thead>\n",
       "  <tbody>\n",
       "    <tr>\n",
       "      <th>0</th>\n",
       "      <td>0</td>\n",
       "      <td>0</td>\n",
       "      <td>0</td>\n",
       "      <td>0</td>\n",
       "      <td>0</td>\n",
       "      <td>0</td>\n",
       "      <td>0</td>\n",
       "      <td>0</td>\n",
       "      <td>0</td>\n",
       "      <td>0</td>\n",
       "      <td>...</td>\n",
       "      <td>0</td>\n",
       "      <td>0</td>\n",
       "      <td>0</td>\n",
       "      <td>0</td>\n",
       "      <td>0</td>\n",
       "      <td>0</td>\n",
       "      <td>0</td>\n",
       "      <td>0</td>\n",
       "      <td>0</td>\n",
       "      <td>0</td>\n",
       "    </tr>\n",
       "    <tr>\n",
       "      <th>1</th>\n",
       "      <td>1</td>\n",
       "      <td>1</td>\n",
       "      <td>1</td>\n",
       "      <td>1</td>\n",
       "      <td>1</td>\n",
       "      <td>1</td>\n",
       "      <td>1</td>\n",
       "      <td>1</td>\n",
       "      <td>1</td>\n",
       "      <td>1</td>\n",
       "      <td>...</td>\n",
       "      <td>1</td>\n",
       "      <td>1</td>\n",
       "      <td>1</td>\n",
       "      <td>1</td>\n",
       "      <td>1</td>\n",
       "      <td>1</td>\n",
       "      <td>1</td>\n",
       "      <td>1</td>\n",
       "      <td>1</td>\n",
       "      <td>1</td>\n",
       "    </tr>\n",
       "    <tr>\n",
       "      <th>2</th>\n",
       "      <td>1</td>\n",
       "      <td>1</td>\n",
       "      <td>0</td>\n",
       "      <td>0</td>\n",
       "      <td>0</td>\n",
       "      <td>0</td>\n",
       "      <td>0</td>\n",
       "      <td>1</td>\n",
       "      <td>0</td>\n",
       "      <td>1</td>\n",
       "      <td>...</td>\n",
       "      <td>1</td>\n",
       "      <td>1</td>\n",
       "      <td>0</td>\n",
       "      <td>1</td>\n",
       "      <td>1</td>\n",
       "      <td>1</td>\n",
       "      <td>0</td>\n",
       "      <td>0</td>\n",
       "      <td>1</td>\n",
       "      <td>1</td>\n",
       "    </tr>\n",
       "    <tr>\n",
       "      <th>3</th>\n",
       "      <td>1</td>\n",
       "      <td>1</td>\n",
       "      <td>1</td>\n",
       "      <td>1</td>\n",
       "      <td>1</td>\n",
       "      <td>1</td>\n",
       "      <td>1</td>\n",
       "      <td>1</td>\n",
       "      <td>1</td>\n",
       "      <td>1</td>\n",
       "      <td>...</td>\n",
       "      <td>1</td>\n",
       "      <td>1</td>\n",
       "      <td>1</td>\n",
       "      <td>1</td>\n",
       "      <td>1</td>\n",
       "      <td>1</td>\n",
       "      <td>1</td>\n",
       "      <td>1</td>\n",
       "      <td>1</td>\n",
       "      <td>1</td>\n",
       "    </tr>\n",
       "    <tr>\n",
       "      <th>4</th>\n",
       "      <td>0</td>\n",
       "      <td>0</td>\n",
       "      <td>0</td>\n",
       "      <td>0</td>\n",
       "      <td>0</td>\n",
       "      <td>0</td>\n",
       "      <td>0</td>\n",
       "      <td>0</td>\n",
       "      <td>0</td>\n",
       "      <td>0</td>\n",
       "      <td>...</td>\n",
       "      <td>0</td>\n",
       "      <td>0</td>\n",
       "      <td>1</td>\n",
       "      <td>0</td>\n",
       "      <td>0</td>\n",
       "      <td>0</td>\n",
       "      <td>0</td>\n",
       "      <td>0</td>\n",
       "      <td>0</td>\n",
       "      <td>0</td>\n",
       "    </tr>\n",
       "  </tbody>\n",
       "</table>\n",
       "<p>5 rows × 22 columns</p>\n",
       "</div>"
      ],
      "text/plain": [
       "   Survived  AdaBoostClassifier  BaggingClassifier  ExtraTreesClassifier  \\\n",
       "0         0                   0                  0                     0   \n",
       "1         1                   1                  1                     1   \n",
       "2         1                   1                  0                     0   \n",
       "3         1                   1                  1                     1   \n",
       "4         0                   0                  0                     0   \n",
       "\n",
       "   GradientBoostingClassifier  RandomForestClassifier  \\\n",
       "0                           0                       0   \n",
       "1                           1                       1   \n",
       "2                           0                       0   \n",
       "3                           1                       1   \n",
       "4                           0                       0   \n",
       "\n",
       "   GaussianProcessClassifier  LogisticRegressionCV  \\\n",
       "0                          0                     0   \n",
       "1                          1                     1   \n",
       "2                          0                     1   \n",
       "3                          1                     1   \n",
       "4                          0                     0   \n",
       "\n",
       "   PassiveAggressiveClassifier  RidgeClassifierCV  \\\n",
       "0                            0                  0   \n",
       "1                            1                  1   \n",
       "2                            0                  1   \n",
       "3                            1                  1   \n",
       "4                            0                  0   \n",
       "\n",
       "               ...                BernoulliNB  GaussianNB  \\\n",
       "0              ...                          0           0   \n",
       "1              ...                          1           1   \n",
       "2              ...                          1           1   \n",
       "3              ...                          1           1   \n",
       "4              ...                          0           0   \n",
       "\n",
       "   KNeighborsClassifier  SVC  NuSVC  LinearSVC  DecisionTreeClassifier  \\\n",
       "0                     0    0      0          0                       0   \n",
       "1                     1    1      1          1                       1   \n",
       "2                     0    1      1          1                       0   \n",
       "3                     1    1      1          1                       1   \n",
       "4                     1    0      0          0                       0   \n",
       "\n",
       "   ExtraTreeClassifier  LinearDiscriminantAnalysis  \\\n",
       "0                    0                           0   \n",
       "1                    1                           1   \n",
       "2                    0                           1   \n",
       "3                    1                           1   \n",
       "4                    0                           0   \n",
       "\n",
       "   QuadraticDiscriminantAnalysis  \n",
       "0                              0  \n",
       "1                              1  \n",
       "2                              1  \n",
       "3                              1  \n",
       "4                              0  \n",
       "\n",
       "[5 rows x 22 columns]"
      ]
     },
     "execution_count": 50,
     "metadata": {},
     "output_type": "execute_result"
    }
   ],
   "source": [
    "MLA_predict.head()"
   ]
  },
  {
   "cell_type": "code",
   "execution_count": 51,
   "metadata": {},
   "outputs": [
    {
     "data": {
      "text/plain": [
       "Text(0,0.5,'Algorithm')"
      ]
     },
     "execution_count": 51,
     "metadata": {},
     "output_type": "execute_result"
    },
    {
     "data": {
      "image/png": "[encoded data removed]",
      "text/plain": [
       "<Figure size 864x576 with 1 Axes>"
      ]
     },
     "metadata": {},
     "output_type": "display_data"
    }
   ],
   "source": [
    "# graph MLA_compare dataframe\n",
    "sns.barplot(x='MLA Test Accuracy Mean', y='MLA Name', data=MLA_compare, color='m')\n",
    "plt.title('Machine Learning Algorithm Accuracy Score')\n",
    "plt.xlabel('Accuracy Score (%)')\n",
    "plt.ylabel('Algorithm')"
   ]
  },
  {
   "cell_type": "markdown",
   "metadata": {},
   "source": [
    "## ROI (data science 101: determine baseline accuracy)\n",
    "- return on investment: is it worth it to improve the model and why should we do it?\n",
    "- is it even worth keeping?\n",
    "- This is a binary problem (survived or died) therefore random guess will be 50/50\n",
    "    - if our model does worse than 50% then we are better off using a coin for predictoins\n",
    " - 67.5% of the people died, so lets keep that as our bad model. "
   ]
  },
  {
   "cell_type": "markdown",
   "metadata": {},
   "source": [
    "## DS 101: How to create your own model\n",
    "- make our own decision tree model\n",
    "    - question 1: were you on the titanic?\n",
    "    - question 2: are you male or female?\n",
    "    - question 3: are you class 1,2,3?\n",
    "    - question 4: did you embark from C,Q,S?"
   ]
  },
  {
   "cell_type": "code",
   "execution_count": 52,
   "metadata": {},
   "outputs": [
    {
     "name": "stdout",
     "output_type": "stream",
     "text": [
      "Coin Flip Model Accuracy: 50.17%\n",
      "Coin Flip Model Accuracy w/SciKit: 50.17%\n"
     ]
    }
   ],
   "source": [
    "# coin flip model\n",
    "for index, row in data1.iterrows():\n",
    "    if random.random() > 0.5:\n",
    "        data1.set_value(index, 'Random_Predict', 1)\n",
    "    else:\n",
    "        data1.set_value(index, 'Random_Predict', 0)\n",
    "        \n",
    "data1['Random_Score'] = 0 #assume prediction wrong\n",
    "data1.loc[(data1['Survived'] == data1['Random_Predict']), 'Random_Score'] = 1 #set to 1 for correct prediction\n",
    "print('Coin Flip Model Accuracy: {:.2f}%'.format(data1['Random_Score'].mean()*100))\n",
    "print('Coin Flip Model Accuracy w/SciKit: {:.2f}%'.format(metrics.accuracy_score(data1['Survived'], data1['Random_Predict'])*100))"
   ]
  },
  {
   "cell_type": "code",
   "execution_count": 53,
   "metadata": {},
   "outputs": [
    {
     "name": "stdout",
     "output_type": "stream",
     "text": [
      "Survival Decision Tree w/Female Node: \n",
      " Sex     Pclass  Embarked  FareBin        \n",
      "female  1       C         (14.454, 31.0]     0.666667\n",
      "                          (31.0, 512.329]    1.000000\n",
      "                Q         (31.0, 512.329]    1.000000\n",
      "                S         (14.454, 31.0]     1.000000\n",
      "                          (31.0, 512.329]    0.955556\n",
      "        2       C         (7.91, 14.454]     1.000000\n",
      "                          (14.454, 31.0]     1.000000\n",
      "                          (31.0, 512.329]    1.000000\n",
      "                Q         (7.91, 14.454]     1.000000\n",
      "                S         (7.91, 14.454]     0.875000\n",
      "                          (14.454, 31.0]     0.916667\n",
      "                          (31.0, 512.329]    1.000000\n",
      "        3       C         (-0.001, 7.91]     1.000000\n",
      "                          (7.91, 14.454]     0.428571\n",
      "                          (14.454, 31.0]     0.666667\n",
      "                Q         (-0.001, 7.91]     0.750000\n",
      "                          (7.91, 14.454]     0.500000\n",
      "                          (14.454, 31.0]     0.714286\n",
      "                S         (-0.001, 7.91]     0.533333\n",
      "                          (7.91, 14.454]     0.448276\n",
      "                          (14.454, 31.0]     0.357143\n",
      "                          (31.0, 512.329]    0.125000\n",
      "Name: Survived, dtype: float64\n",
      "\n",
      "\n",
      "Survival Decision Tree w/Male Node: \n",
      " Sex   Title \n",
      "male  Master    0.575000\n",
      "      Misc      0.250000\n",
      "      Mr        0.156673\n",
      "Name: Survived, dtype: float64\n"
     ]
    }
   ],
   "source": [
    "# Decision Tree model\n",
    "pivot_female = data1[data1.Sex=='female'].groupby(['Sex','Pclass', 'Embarked','FareBin'])['Survived'].mean()\n",
    "print('Survival Decision Tree w/Female Node: \\n',pivot_female)\n",
    "\n",
    "pivot_male = data1[data1.Sex=='male'].groupby(['Sex','Title'])['Survived'].mean()\n",
    "print('\\n\\nSurvival Decision Tree w/Male Node: \\n',pivot_male)"
   ]
  },
  {
   "cell_type": "code",
   "execution_count": 2,
   "metadata": {},
   "outputs": [],
   "source": [
    "# come back to making you own model"
   ]
  },
  {
   "cell_type": "markdown",
   "metadata": {},
   "source": [
    "## Tune Model with Hyper-Parameters\n",
    "- In order to tune paramaeters we need to know more about the models we are using. \n",
    "- Decision Tree classifier:\n",
    "    - advantages:\n",
    "        - little data preparation. No normalization needed. Dummy variables need to be created and blank values need to be removed/filled. \n",
    "        - log complexity\n",
    "        - can handle numeric and categorical data\n",
    "        - handles multi-output problems\n",
    "    - disadvantages:\n",
    "        - over-complex trees which do not generalize are possible\n",
    "        - are very unstable becuase small variations in the data might result in completely different tree\n",
    "        - learning an optimal decision tree is NP-complete. For this reason heuristic algorithms (greedy alg) are used for locally optimal decisions\n",
    "        - can't learn even simple rule like the XOR\n",
    "        "
   ]
  },
  {
   "cell_type": "code",
   "execution_count": 56,
   "metadata": {},
   "outputs": [
    {
     "data": {
      "text/plain": [
       "DecisionTreeClassifier(class_weight=None, criterion='gini', max_depth=None,\n",
       "            max_features=None, max_leaf_nodes=None,\n",
       "            min_impurity_decrease=0.0, min_impurity_split=None,\n",
       "            min_samples_leaf=1, min_samples_split=2,\n",
       "            min_weight_fraction_leaf=0.0, presort=False, random_state=0,\n",
       "            splitter='best')"
      ]
     },
     "execution_count": 56,
     "metadata": {},
     "output_type": "execute_result"
    }
   ],
   "source": [
    "# base model \n",
    "dtree = tree.DecisionTreeClassifier(random_state=0)\n",
    "base_results = model_selection.cross_validate(dtree, data1[data1_x_bin],\n",
    "                                             data1[Target], cv=cv_split)\n",
    "dtree.fit(data1[data1_x_bin], data1[Target])"
   ]
  },
  {
   "cell_type": "code",
   "execution_count": 60,
   "metadata": {},
   "outputs": [
    {
     "name": "stdout",
     "output_type": "stream",
     "text": [
      "BEFORE DT Parameters:  {'class_weight': None, 'criterion': 'gini', 'max_depth': None, 'max_features': None, 'max_leaf_nodes': None, 'min_impurity_decrease': 0.0, 'min_impurity_split': None, 'min_samples_leaf': 1, 'min_samples_split': 2, 'min_weight_fraction_leaf': 0.0, 'presort': False, 'random_state': 0, 'splitter': 'best'}\n",
      "BEFORE DT Training w/bin score mean: 89.51\n",
      "BEFORE DT Test w/bin score mean: 82.09\n",
      "BEFORE DT Test w/bin score 3*std: +/- 5.57\n"
     ]
    }
   ],
   "source": [
    "print(\"BEFORE DT Parameters: \", dtree.get_params())\n",
    "print(\"BEFORE DT Training w/bin score mean: {:.2f}\".format(base_results['train_score'].mean()*100))\n",
    "print(\"BEFORE DT Test w/bin score mean: {:.2f}\".format(base_results['test_score'].mean()*100))\n",
    "print(\"BEFORE DT Test w/bin score 3*std: +/- {:.2f}\".format(base_results['test_score'].std()*100*3))"
   ]
  },
  {
   "cell_type": "code",
   "execution_count": 61,
   "metadata": {},
   "outputs": [],
   "source": [
    "param_grid = {\n",
    "    # scoring methodolopy; two supported formulas for calculating information gain\n",
    "    'criterion': ['gini', 'entropy'],\n",
    "    # max depth tree can grow; defalut is none\n",
    "    'max_depth': [2,4,6,8,10,None],\n",
    "    # seed for controling random number generator\n",
    "    'random_state':[0]\n",
    "}"
   ]
  },
  {
   "cell_type": "code",
   "execution_count": 63,
   "metadata": {},
   "outputs": [],
   "source": [
    "# choose best model with grid search \n",
    "tune_model = model_selection.GridSearchCV(tree.DecisionTreeClassifier(), \n",
    "                                         param_grid=param_grid, \n",
    "                                         scoring='roc_auc',\n",
    "                                         cv=cv_split)"
   ]
  },
  {
   "cell_type": "code",
   "execution_count": 65,
   "metadata": {},
   "outputs": [
    {
     "data": {
      "text/plain": [
       "GridSearchCV(cv=ShuffleSplit(n_splits=10, random_state=0, test_size=0.3, train_size=0.6),\n",
       "       error_score='raise',\n",
       "       estimator=DecisionTreeClassifier(class_weight=None, criterion='gini', max_depth=None,\n",
       "            max_features=None, max_leaf_nodes=None,\n",
       "            min_impurity_decrease=0.0, min_impurity_split=None,\n",
       "            min_samples_leaf=1, min_samples_split=2,\n",
       "            min_weight_fraction_leaf=0.0, presort=False, random_state=None,\n",
       "            splitter='best'),\n",
       "       fit_params=None, iid=True, n_jobs=1,\n",
       "       param_grid={'criterion': ['gini', 'entropy'], 'max_depth': [2, 4, 6, 8, 10, None], 'random_state': [0]},\n",
       "       pre_dispatch='2*n_jobs', refit=True, return_train_score='warn',\n",
       "       scoring='roc_auc', verbose=0)"
      ]
     },
     "execution_count": 65,
     "metadata": {},
     "output_type": "execute_result"
    }
   ],
   "source": [
    "tune_model.fit(data1[data1_x_bin], data1[Target])"
   ]
  },
  {
   "cell_type": "code",
   "execution_count": 66,
   "metadata": {},
   "outputs": [
    {
     "name": "stdout",
     "output_type": "stream",
     "text": [
      "AFTER DT Parameters: {'criterion': 'gini', 'max_depth': 4, 'random_state': 0}\n",
      "AFTER DT Training w/bin score mean: 89.35\n",
      "AFTER DT Test w/bin score 3*std: +/- 5.00\n"
     ]
    }
   ],
   "source": [
    "print('AFTER DT Parameters:', tune_model.best_params_)\n",
    "print(\"AFTER DT Training w/bin score mean: {:.2f}\". format(tune_model.cv_results_['mean_train_score'][tune_model.best_index_]*100)) \n",
    "print(\"AFTER DT Test w/bin score 3*std: +/- {:.2f}\". format(tune_model.cv_results_['std_test_score'][tune_model.best_index_]*100*3))"
   ]
  },
  {
   "cell_type": "markdown",
   "metadata": {},
   "source": [
    "# Tune Model with Feature Selection"
   ]
  },
  {
   "cell_type": "code",
   "execution_count": 67,
   "metadata": {},
   "outputs": [
    {
     "name": "stdout",
     "output_type": "stream",
     "text": [
      "BEFORE DT RFE Training Shape Old:  (891, 7)\n",
      "BEFORE DT RFE Training Columns Old:  ['Sex_Code' 'Pclass' 'Embarked_Code' 'Title_Code' 'FamilySize'\n",
      " 'AgeBin_Code' 'FareBin_Code']\n",
      "BEFORE DT RFE Training w/bin score mean: 89.51\n",
      "BEFORE DT RFE Test w/bin score mean: 82.09\n",
      "BEFORE DT RFE Test w/bin score 3*std: +/- 5.57\n"
     ]
    }
   ],
   "source": [
    "print('BEFORE DT RFE Training Shape Old: ', data1[data1_x_bin].shape) \n",
    "print('BEFORE DT RFE Training Columns Old: ', data1[data1_x_bin].columns.values)\n",
    "\n",
    "print(\"BEFORE DT RFE Training w/bin score mean: {:.2f}\". format(base_results['train_score'].mean()*100)) \n",
    "print(\"BEFORE DT RFE Test w/bin score mean: {:.2f}\". format(base_results['test_score'].mean()*100))\n",
    "print(\"BEFORE DT RFE Test w/bin score 3*std: +/- {:.2f}\". format(base_results['test_score'].std()*100*3))"
   ]
  },
  {
   "cell_type": "code",
   "execution_count": 69,
   "metadata": {},
   "outputs": [],
   "source": [
    "# feature selection \n",
    "dtree_rfe = feature_selection.RFECV(dtree, step = 1, scoring = 'accuracy', cv = cv_split)\n",
    "dtree_rfe.fit(data1[data1_x_bin], data1[Target])\n",
    "X_rfe = data1[data1_x_bin].columns.values[dtree_rfe.get_support()]\n",
    "rfe_results = model_selection.cross_validate(dtree, data1[X_rfe], data1[Target], cv  = cv_split)"
   ]
  },
  {
   "cell_type": "code",
   "execution_count": 70,
   "metadata": {},
   "outputs": [
    {
     "name": "stdout",
     "output_type": "stream",
     "text": [
      "AFTER DT RFE Training Shape New:  (891, 6)\n",
      "AFTER DT RFE Training Columns New:  ['Sex_Code' 'Pclass' 'Title_Code' 'FamilySize' 'AgeBin_Code'\n",
      " 'FareBin_Code']\n",
      "AFTER DT RFE Training w/bin score mean: 88.16\n",
      "AFTER DT RFE Test w/bin score mean: 83.06\n",
      "AFTER DT RFE Test w/bin score 3*std: +/- 6.22\n"
     ]
    }
   ],
   "source": [
    "print('AFTER DT RFE Training Shape New: ', data1[X_rfe].shape) \n",
    "print('AFTER DT RFE Training Columns New: ', X_rfe)\n",
    "\n",
    "print(\"AFTER DT RFE Training w/bin score mean: {:.2f}\". format(rfe_results['train_score'].mean()*100)) \n",
    "print(\"AFTER DT RFE Test w/bin score mean: {:.2f}\". format(rfe_results['test_score'].mean()*100))\n",
    "print(\"AFTER DT RFE Test w/bin score 3*std: +/- {:.2f}\". format(rfe_results['test_score'].std()*100*3))"
   ]
  },
  {
   "cell_type": "markdown",
   "metadata": {},
   "source": [
    "# Now we can tune the rfe model with GridSearchCV"
   ]
  },
  {
   "cell_type": "code",
   "execution_count": 71,
   "metadata": {},
   "outputs": [
    {
     "data": {
      "text/plain": [
       "GridSearchCV(cv=ShuffleSplit(n_splits=10, random_state=0, test_size=0.3, train_size=0.6),\n",
       "       error_score='raise',\n",
       "       estimator=DecisionTreeClassifier(class_weight=None, criterion='gini', max_depth=None,\n",
       "            max_features=None, max_leaf_nodes=None,\n",
       "            min_impurity_decrease=0.0, min_impurity_split=None,\n",
       "            min_samples_leaf=1, min_samples_split=2,\n",
       "            min_weight_fraction_leaf=0.0, presort=False, random_state=None,\n",
       "            splitter='best'),\n",
       "       fit_params=None, iid=True, n_jobs=1,\n",
       "       param_grid={'criterion': ['gini', 'entropy'], 'max_depth': [2, 4, 6, 8, 10, None], 'random_state': [0]},\n",
       "       pre_dispatch='2*n_jobs', refit=True, return_train_score='warn',\n",
       "       scoring='roc_auc', verbose=0)"
      ]
     },
     "execution_count": 71,
     "metadata": {},
     "output_type": "execute_result"
    }
   ],
   "source": [
    "rfe_tune_model = model_selection.GridSearchCV(tree.DecisionTreeClassifier(), param_grid=param_grid, scoring = 'roc_auc', cv = cv_split)\n",
    "rfe_tune_model.fit(data1[X_rfe], data1[Target])"
   ]
  },
  {
   "cell_type": "code",
   "execution_count": 72,
   "metadata": {},
   "outputs": [
    {
     "name": "stdout",
     "output_type": "stream",
     "text": [
      "AFTER DT RFE Tuned Parameters:  {'criterion': 'gini', 'max_depth': 4, 'random_state': 0}\n",
      "AFTER DT RFE Tuned Training w/bin score mean: 89.39\n",
      "AFTER DT RFE Tuned Test w/bin score mean: 87.34\n",
      "AFTER DT RFE Tuned Test w/bin score 3*std: +/- 6.21\n"
     ]
    }
   ],
   "source": [
    "print('AFTER DT RFE Tuned Parameters: ', rfe_tune_model.best_params_)\n",
    "#print(rfe_tune_model.cv_results_['mean_train_score'])\n",
    "print(\"AFTER DT RFE Tuned Training w/bin score mean: {:.2f}\". format(rfe_tune_model.cv_results_['mean_train_score'][tune_model.best_index_]*100)) \n",
    "#print(rfe_tune_model.cv_results_['mean_test_score'])\n",
    "print(\"AFTER DT RFE Tuned Test w/bin score mean: {:.2f}\". format(rfe_tune_model.cv_results_['mean_test_score'][tune_model.best_index_]*100))\n",
    "print(\"AFTER DT RFE Tuned Test w/bin score 3*std: +/- {:.2f}\". format(rfe_tune_model.cv_results_['std_test_score'][tune_model.best_index_]*100*3))"
   ]
  },
  {
   "cell_type": "markdown",
   "metadata": {},
   "source": [
    "## Graph the DT"
   ]
  },
  {
   "cell_type": "code",
   "execution_count": 79,
   "metadata": {},
   "outputs": [],
   "source": [
    "import graphviz \n",
    "dot_data = tree.export_graphviz(dtree, out_file=None, \n",
    "                                feature_names = data1_x_bin, class_names = True,\n",
    "                                filled = True, rounded = True)\n"
   ]
  },
  {
   "cell_type": "code",
   "execution_count": 84,
   "metadata": {},
   "outputs": [],
   "source": [
    "graph = graphviz.Source(dot_data) \n",
    "# graph # not working"
   ]
  },
  {
   "cell_type": "markdown",
   "metadata": {},
   "source": [
    "# Validate and Implement\n",
    "- compare algorithm predictions with each other where 1=eactly similar"
   ]
  },
  {
   "cell_type": "code",
   "execution_count": 86,
   "metadata": {},
   "outputs": [],
   "source": [
    "#correlation heatmap of dataset\n",
    "def correlation_heatmap(df):\n",
    "    _ , ax = plt.subplots(figsize =(14, 12))\n",
    "    colormap = sns.diverging_palette(220, 10, as_cmap = True)\n",
    "    \n",
    "    _ = sns.heatmap(\n",
    "        df.corr(), \n",
    "        cmap = colormap,\n",
    "        square=True, \n",
    "        cbar_kws={'shrink':.9 }, \n",
    "        ax=ax,\n",
    "        annot=True, \n",
    "        linewidths=0.1,vmax=1.0, linecolor='white',\n",
    "        annot_kws={'fontsize':12 }\n",
    "    )\n",
    "    \n",
    "    plt.title('Pearson Correlation of Features', y=1.05, size=15)"
   ]
  },
  {
   "cell_type": "code",
   "execution_count": 87,
   "metadata": {},
   "outputs": [
    {
     "data": {
      "image/png": "[encoded data removed]",
      "text/plain": [
       "<Figure size 1008x864 with 2 Axes>"
      ]
     },
     "metadata": {},
     "output_type": "display_data"
    }
   ],
   "source": [
    "correlation_heatmap(MLA_predict)"
   ]
  },
  {
   "cell_type": "code",
   "execution_count": 88,
   "metadata": {},
   "outputs": [],
   "source": [
    "# can use a voting classifer to choose best one\n",
    "vote_est = [\n",
    "    ('ada', ensemble.AdaBoostClassifier()),\n",
    "    ('bc', ensemble.BaggingClassifier()),\n",
    "    ('etc',ensemble.ExtraTreesClassifier()),\n",
    "    ('gbc', ensemble.GradientBoostingClassifier()),\n",
    "    ('rfc', ensemble.RandomForestClassifier()),\n",
    "    \n",
    "    ('gpc', gaussian_process.GaussianProcessClassifier()),\n",
    "    ('lr', linear_model.LogisticRegressionCV()),\n",
    "    \n",
    "    ('bnb', naive_bayes.BernoulliNB()),\n",
    "    ('gnb', naive_bayes.GaussianNB()),\n",
    "    \n",
    "    ('knn', neighbors.KNeighborsClassifier()),\n",
    "    \n",
    "    ('svc', svm.SVC(probability=True)),   \n",
    "]"
   ]
  },
  {
   "cell_type": "code",
   "execution_count": 89,
   "metadata": {},
   "outputs": [
    {
     "data": {
      "text/plain": [
       "VotingClassifier(estimators=[('ada', AdaBoostClassifier(algorithm='SAMME.R', base_estimator=None,\n",
       "          learning_rate=1.0, n_estimators=50, random_state=None)), ('bc', BaggingClassifier(base_estimator=None, bootstrap=True,\n",
       "         bootstrap_features=False, max_features=1.0, max_samples=1.0,\n",
       "         n_estimator...',\n",
       "  max_iter=-1, probability=True, random_state=None, shrinking=True,\n",
       "  tol=0.001, verbose=False))],\n",
       "         flatten_transform=None, n_jobs=1, voting='hard', weights=None)"
      ]
     },
     "execution_count": 89,
     "metadata": {},
     "output_type": "execute_result"
    }
   ],
   "source": [
    "# hard vote: majorith rules\n",
    "vote_hard = ensemble.VotingClassifier(estimators = vote_est , voting = 'hard')\n",
    "vote_hard_cv = model_selection.cross_validate(vote_hard, data1[data1_x_bin], data1[Target], cv  = cv_split)\n",
    "vote_hard.fit(data1[data1_x_bin], data1[Target])"
   ]
  },
  {
   "cell_type": "code",
   "execution_count": 90,
   "metadata": {},
   "outputs": [
    {
     "name": "stdout",
     "output_type": "stream",
     "text": [
      "Hard Voting Training w/bin score mean: 86.70\n",
      "Hard Voting Test w/bin score mean: 82.28\n",
      "Hard Voting Test w/bin score 3*std: +/- 4.14\n"
     ]
    }
   ],
   "source": [
    "print(\"Hard Voting Training w/bin score mean: {:.2f}\". format(vote_hard_cv['train_score'].mean()*100)) \n",
    "print(\"Hard Voting Test w/bin score mean: {:.2f}\". format(vote_hard_cv['test_score'].mean()*100))\n",
    "print(\"Hard Voting Test w/bin score 3*std: +/- {:.2f}\". format(vote_hard_cv['test_score'].std()*100*3))"
   ]
  },
  {
   "cell_type": "code",
   "execution_count": 91,
   "metadata": {},
   "outputs": [
    {
     "data": {
      "text/plain": [
       "VotingClassifier(estimators=[('ada', AdaBoostClassifier(algorithm='SAMME.R', base_estimator=None,\n",
       "          learning_rate=1.0, n_estimators=50, random_state=None)), ('bc', BaggingClassifier(base_estimator=None, bootstrap=True,\n",
       "         bootstrap_features=False, max_features=1.0, max_samples=1.0,\n",
       "         n_estimator...',\n",
       "  max_iter=-1, probability=True, random_state=None, shrinking=True,\n",
       "  tol=0.001, verbose=False))],\n",
       "         flatten_transform=None, n_jobs=1, voting='soft', weights=None)"
      ]
     },
     "execution_count": 91,
     "metadata": {},
     "output_type": "execute_result"
    }
   ],
   "source": [
    "#Soft Vote or weighted probabilities\n",
    "vote_soft = ensemble.VotingClassifier(estimators = vote_est , voting = 'soft')\n",
    "vote_soft_cv = model_selection.cross_validate(vote_soft, data1[data1_x_bin], data1[Target], cv  = cv_split)\n",
    "vote_soft.fit(data1[data1_x_bin], data1[Target])"
   ]
  },
  {
   "cell_type": "code",
   "execution_count": 92,
   "metadata": {},
   "outputs": [
    {
     "data": {
      "text/plain": [
       "VotingClassifier(estimators=[('ada', AdaBoostClassifier(algorithm='SAMME.R', base_estimator=None,\n",
       "          learning_rate=1.0, n_estimators=50, random_state=None)), ('bc', BaggingClassifier(base_estimator=None, bootstrap=True,\n",
       "         bootstrap_features=False, max_features=1.0, max_samples=1.0,\n",
       "         n_estimator...',\n",
       "  max_iter=-1, probability=True, random_state=None, shrinking=True,\n",
       "  tol=0.001, verbose=False))],\n",
       "         flatten_transform=None, n_jobs=1, voting='soft', weights=None)"
      ]
     },
     "execution_count": 92,
     "metadata": {},
     "output_type": "execute_result"
    }
   ],
   "source": [
    "vote_soft = ensemble.VotingClassifier(estimators = vote_est , voting = 'soft')\n",
    "vote_soft_cv = model_selection.cross_validate(vote_soft, data1[data1_x_bin], data1[Target], cv  = cv_split)\n",
    "vote_soft.fit(data1[data1_x_bin], data1[Target])"
   ]
  },
  {
   "cell_type": "code",
   "execution_count": 93,
   "metadata": {},
   "outputs": [
    {
     "name": "stdout",
     "output_type": "stream",
     "text": [
      "Soft Voting Training w/bin score mean: 87.34\n",
      "Soft Voting Test w/bin score mean: 82.24\n",
      "Soft Voting Test w/bin score 3*std: +/- 4.48\n"
     ]
    }
   ],
   "source": [
    "print(\"Soft Voting Training w/bin score mean: {:.2f}\". format(vote_soft_cv['train_score'].mean()*100)) \n",
    "print(\"Soft Voting Test w/bin score mean: {:.2f}\". format(vote_soft_cv['test_score'].mean()*100))\n",
    "print(\"Soft Voting Test w/bin score 3*std: +/- {:.2f}\". format(vote_soft_cv['test_score'].std()*100*3))"
   ]
  },
  {
   "cell_type": "markdown",
   "metadata": {},
   "source": [
    "## GridSearchCV for all models (will take time)"
   ]
  },
  {
   "cell_type": "code",
   "execution_count": 96,
   "metadata": {},
   "outputs": [],
   "source": [
    "# hyper parameters tuned for all models: GridSearchCV\n",
    "grid_n_estimator = [10, 50, 100, 300]\n",
    "grid_ratio = [.1, .25, .5, .75, 1.0]\n",
    "grid_learn = [.01, .03, .05, .1, .25]\n",
    "grid_max_depth = [2, 4, 6, 8, 10, None]\n",
    "grid_min_samples = [5, 10, .03, .05, .10]\n",
    "grid_criterion = ['gini', 'entropy']\n",
    "grid_bool = [True, False]\n",
    "grid_seed = [0]"
   ]
  },
  {
   "cell_type": "code",
   "execution_count": 101,
   "metadata": {},
   "outputs": [],
   "source": [
    "grid_param = [\n",
    "    # AdaBoostClassifier\n",
    "    [{\n",
    "        'n_estimators': grid_n_estimator,\n",
    "        'learning_rate': grid_learn,\n",
    "        'random_state': grid_seed\n",
    "    }],\n",
    "    # BaggingClassifier\n",
    "    [{\n",
    "        'n_estimators': grid_n_estimator, \n",
    "        'max_samples': grid_ratio,\n",
    "        'random_state': grid_seed\n",
    "    }],\n",
    "    # ExtratreesClassifier\n",
    "    [{\n",
    "        'n_estimators': grid_n_estimator,\n",
    "        'criterion': grid_criterion,\n",
    "        'max_depth': grid_max_depth,\n",
    "        'random_state': grid_seed\n",
    "    }],\n",
    "    # GradientDoostingClassifier\n",
    "    [{\n",
    "        'learning_rate': [.05],\n",
    "        'n_estimators': [300],\n",
    "        'max_depth': grid_max_depth,\n",
    "        'random_state': grid_seed\n",
    "    }],\n",
    "    # RandomForestClassifier\n",
    "    [{\n",
    "        'n_estimators': grid_n_estimator,\n",
    "        'criterion': grid_criterion,\n",
    "        'max_depth': grid_max_depth,\n",
    "        'oob_score': [True],\n",
    "        'random_state': grid_seed  \n",
    "    }],\n",
    "    # GaussianProcessClassifier\n",
    "    [{\n",
    "        'max_iter_predict': grid_n_estimator,\n",
    "        'random_state': grid_seed\n",
    "    }],\n",
    "    # LogisticRegressionCV\n",
    "    [{\n",
    "        'fit_intercept': grid_bool,\n",
    "        'solver': ['newton-cg', 'lbfgs', 'liblinear', 'sag', 'saga'], \n",
    "        'random_state': grid_seed\n",
    "    }],\n",
    "    # BernoulliNB\n",
    "    [{\n",
    "        'alpha': grid_ratio,        \n",
    "    }],\n",
    "    # GaussianNB\n",
    "    [{}],\n",
    "    # KNeighborsClassifier\n",
    "    [{\n",
    "        'n_neighbors': [1,2,3,4,5,6,7], \n",
    "        'weights': ['uniform', 'distance'], \n",
    "        'algorithm': ['auto', 'ball_tree', 'kd_tree', 'brute']\n",
    "    }],\n",
    "    # SVC\n",
    "    [{\n",
    "        'C': [1,2,3,4,5],\n",
    "        'gamma': grid_ratio, \n",
    "        'decision_function_shape': ['ovo', 'ovr'], \n",
    "        'probability': [True],\n",
    "        'random_state': grid_seed\n",
    "        \n",
    "    }]\n",
    "]"
   ]
  },
  {
   "cell_type": "code",
   "execution_count": 102,
   "metadata": {},
   "outputs": [
    {
     "name": "stdout",
     "output_type": "stream",
     "text": [
      "The best parameter for AdaBoostClassifier is {'learning_rate': 0.1, 'n_estimators': 300, 'random_state': 0} with a runtime of 54.79 seconds.\n",
      "The best parameter for BaggingClassifier is {'max_samples': 0.25, 'n_estimators': 300, 'random_state': 0} with a runtime of 47.01 seconds.\n",
      "The best parameter for ExtraTreesClassifier is {'criterion': 'entropy', 'max_depth': 6, 'n_estimators': 100, 'random_state': 0} with a runtime of 100.01 seconds.\n",
      "The best parameter for GradientBoostingClassifier is {'learning_rate': 0.05, 'max_depth': 2, 'n_estimators': 300, 'random_state': 0} with a runtime of 49.04 seconds.\n",
      "The best parameter for RandomForestClassifier is {'criterion': 'entropy', 'max_depth': 6, 'n_estimators': 100, 'oob_score': True, 'random_state': 0} with a runtime of 173.51 seconds.\n",
      "The best parameter for GaussianProcessClassifier is {'max_iter_predict': 10, 'random_state': 0} with a runtime of 16.37 seconds.\n",
      "The best parameter for LogisticRegressionCV is {'fit_intercept': True, 'random_state': 0, 'solver': 'liblinear'} with a runtime of 17.75 seconds.\n",
      "The best parameter for BernoulliNB is {'alpha': 0.1} with a runtime of 0.41 seconds.\n",
      "The best parameter for GaussianNB is {} with a runtime of 0.07 seconds.\n",
      "The best parameter for KNeighborsClassifier is {'algorithm': 'brute', 'n_neighbors': 7, 'weights': 'uniform'} with a runtime of 9.63 seconds.\n",
      "The best parameter for SVC is {'C': 2, 'decision_function_shape': 'ovo', 'gamma': 0.1, 'probability': True, 'random_state': 0} with a runtime of 37.96 seconds.\n",
      "Total optimization time was 8.44 minutes.\n"
     ]
    }
   ],
   "source": [
    "start_total = time.perf_counter()\n",
    "for clf, param in zip(vote_est, grid_param):\n",
    "    start = time.perf_counter()        \n",
    "    best_search = model_selection.GridSearchCV(estimator = clf[1], param_grid = param, cv = cv_split, scoring = 'roc_auc')\n",
    "    best_search.fit(data1[data1_x_bin], data1[Target])\n",
    "    run = time.perf_counter() - start\n",
    "    \n",
    "    best_param = best_search.best_params_\n",
    "    print('The best parameter for {} is {} with a runtime of {:.2f} seconds.'.format(clf[1].__class__.__name__, best_param, run))\n",
    "    clf[1].set_params(**best_param) \n",
    "    \n",
    "run_total = time.perf_counter() - start_total\n",
    "print('Total optimization time was {:.2f} minutes.'.format(run_total/60))"
   ]
  },
  {
   "cell_type": "code",
   "execution_count": 104,
   "metadata": {},
   "outputs": [
    {
     "data": {
      "text/plain": [
       "VotingClassifier(estimators=[('ada', AdaBoostClassifier(algorithm='SAMME.R', base_estimator=None,\n",
       "          learning_rate=0.1, n_estimators=300, random_state=0)), ('bc', BaggingClassifier(base_estimator=None, bootstrap=True,\n",
       "         bootstrap_features=False, max_features=1.0, max_samples=0.25,\n",
       "         n_estimators...rbf',\n",
       "  max_iter=-1, probability=True, random_state=0, shrinking=True, tol=0.001,\n",
       "  verbose=False))],\n",
       "         flatten_transform=None, n_jobs=1, voting='soft', weights=None)"
      ]
     },
     "execution_count": 104,
     "metadata": {},
     "output_type": "execute_result"
    }
   ],
   "source": [
    "# Tune Hyper parameters\n",
    "\n",
    "#Hard Vote or majority rules w/Tuned Hyperparameters\n",
    "grid_hard = ensemble.VotingClassifier(estimators = vote_est , voting = 'hard')\n",
    "grid_hard_cv = model_selection.cross_validate(grid_hard, data1[data1_x_bin], data1[Target], cv  = cv_split)\n",
    "grid_hard.fit(data1[data1_x_bin], data1[Target])\n",
    "\n",
    "#Soft Vote or weighted probabilities w/Tuned Hyperparameters\n",
    "grid_soft = ensemble.VotingClassifier(estimators = vote_est , voting = 'soft')\n",
    "grid_soft_cv = model_selection.cross_validate(grid_soft, data1[data1_x_bin], data1[Target], cv  = cv_split)\n",
    "grid_soft.fit(data1[data1_x_bin], data1[Target])"
   ]
  },
  {
   "cell_type": "code",
   "execution_count": 105,
   "metadata": {},
   "outputs": [
    {
     "name": "stdout",
     "output_type": "stream",
     "text": [
      "Hard Voting w/Tuned Hyperparameters Training w/bin score mean: 84.98\n",
      "Hard Voting w/Tuned Hyperparameters Test w/bin score mean: 82.43\n",
      "Hard Voting w/Tuned Hyperparameters Test w/bin score 3*std: +/- 5.21\n",
      "----------\n"
     ]
    }
   ],
   "source": [
    "print(\"Hard Voting w/Tuned Hyperparameters Training w/bin score mean: {:.2f}\". format(grid_hard_cv['train_score'].mean()*100)) \n",
    "print(\"Hard Voting w/Tuned Hyperparameters Test w/bin score mean: {:.2f}\". format(grid_hard_cv['test_score'].mean()*100))\n",
    "print(\"Hard Voting w/Tuned Hyperparameters Test w/bin score 3*std: +/- {:.2f}\". format(grid_hard_cv['test_score'].std()*100*3))\n",
    "print('-'*10)"
   ]
  },
  {
   "cell_type": "code",
   "execution_count": 106,
   "metadata": {},
   "outputs": [
    {
     "name": "stdout",
     "output_type": "stream",
     "text": [
      "Soft Voting w/Tuned Hyperparameters Training w/bin score mean: 84.66\n",
      "Soft Voting w/Tuned Hyperparameters Test w/bin score mean: 82.31\n",
      "Soft Voting w/Tuned Hyperparameters Test w/bin score 3*std: +/- 4.86\n",
      "----------\n"
     ]
    }
   ],
   "source": [
    "print(\"Soft Voting w/Tuned Hyperparameters Training w/bin score mean: {:.2f}\". format(grid_soft_cv['train_score'].mean()*100)) \n",
    "print(\"Soft Voting w/Tuned Hyperparameters Test w/bin score mean: {:.2f}\". format(grid_soft_cv['test_score'].mean()*100))\n",
    "print(\"Soft Voting w/Tuned Hyperparameters Test w/bin score 3*std: +/- {:.2f}\". format(grid_soft_cv['test_score'].std()*100*3))\n",
    "print('-'*10)"
   ]
  },
  {
   "cell_type": "code",
   "execution_count": 108,
   "metadata": {},
   "outputs": [],
   "source": [
    "def mytree(df):\n",
    "    \n",
    "    #initialize table to store predictions\n",
    "    Model = pd.DataFrame(data = {'Predict':[]})\n",
    "    male_title = ['Master'] #survived titles\n",
    "\n",
    "    for index, row in df.iterrows():\n",
    "\n",
    "        #Question 1: Were you on the Titanic; majority died\n",
    "        Model.loc[index, 'Predict'] = 0\n",
    "\n",
    "        #Question 2: Are you female; majority survived\n",
    "        if (df.loc[index, 'Sex'] == 'female'):\n",
    "                  Model.loc[index, 'Predict'] = 1\n",
    "\n",
    "        #Question 3A Female - Class and Question 4 Embarked gain minimum information\n",
    "\n",
    "        #Question 5B Female - FareBin; set anything less than .5 in female node decision tree back to 0       \n",
    "        if ((df.loc[index, 'Sex'] == 'female') & \n",
    "            (df.loc[index, 'Pclass'] == 3) & \n",
    "            (df.loc[index, 'Embarked'] == 'S')  &\n",
    "            (df.loc[index, 'Fare'] > 8)\n",
    "\n",
    "           ):\n",
    "                  Model.loc[index, 'Predict'] = 0\n",
    "\n",
    "        #Question 3B Male: Title; set anything greater than .5 to 1 for majority survived\n",
    "        if ((df.loc[index, 'Sex'] == 'male') &\n",
    "            (df.loc[index, 'Title'] in male_title)\n",
    "            ):\n",
    "            Model.loc[index, 'Predict'] = 1\n",
    "        \n",
    "        \n",
    "    return Model"
   ]
  },
  {
   "cell_type": "code",
   "execution_count": 111,
   "metadata": {},
   "outputs": [],
   "source": [
    "# prepare model for submission\n",
    "data_val['Survived'] = mytree(data_val).astype(int)\n",
    "data_val['Survived'] = grid_hard.predict(data_val[data1_x_bin])"
   ]
  },
  {
   "cell_type": "code",
   "execution_count": 114,
   "metadata": {},
   "outputs": [],
   "source": [
    "# submit file\n",
    "submit = data_val[['PassengerId','Survived']]\n",
    "submit.to_csv(\"./data/submit.csv\", index=False)"
   ]
  },
  {
   "cell_type": "code",
   "execution_count": 115,
   "metadata": {},
   "outputs": [
    {
     "name": "stdout",
     "output_type": "stream",
     "text": [
      "Validation Data Distribution: \n",
      " 0    0.600478\n",
      "1    0.399522\n",
      "Name: Survived, dtype: float64\n"
     ]
    },
    {
     "data": {
      "text/html": [
       "<div>\n",
       "<style scoped>\n",
       "    .dataframe tbody tr th:only-of-type {\n",
       "        vertical-align: middle;\n",
       "    }\n",
       "\n",
       "    .dataframe tbody tr th {\n",
       "        vertical-align: top;\n",
       "    }\n",
       "\n",
       "    .dataframe thead th {\n",
       "        text-align: right;\n",
       "    }\n",
       "</style>\n",
       "<table border=\"1\" class=\"dataframe\">\n",
       "  <thead>\n",
       "    <tr style=\"text-align: right;\">\n",
       "      <th></th>\n",
       "      <th>PassengerId</th>\n",
       "      <th>Survived</th>\n",
       "    </tr>\n",
       "  </thead>\n",
       "  <tbody>\n",
       "    <tr>\n",
       "      <th>361</th>\n",
       "      <td>1253</td>\n",
       "      <td>1</td>\n",
       "    </tr>\n",
       "    <tr>\n",
       "      <th>114</th>\n",
       "      <td>1006</td>\n",
       "      <td>1</td>\n",
       "    </tr>\n",
       "    <tr>\n",
       "      <th>414</th>\n",
       "      <td>1306</td>\n",
       "      <td>1</td>\n",
       "    </tr>\n",
       "    <tr>\n",
       "      <th>257</th>\n",
       "      <td>1149</td>\n",
       "      <td>0</td>\n",
       "    </tr>\n",
       "    <tr>\n",
       "      <th>116</th>\n",
       "      <td>1008</td>\n",
       "      <td>0</td>\n",
       "    </tr>\n",
       "    <tr>\n",
       "      <th>93</th>\n",
       "      <td>985</td>\n",
       "      <td>0</td>\n",
       "    </tr>\n",
       "    <tr>\n",
       "      <th>81</th>\n",
       "      <td>973</td>\n",
       "      <td>0</td>\n",
       "    </tr>\n",
       "    <tr>\n",
       "      <th>297</th>\n",
       "      <td>1189</td>\n",
       "      <td>0</td>\n",
       "    </tr>\n",
       "    <tr>\n",
       "      <th>100</th>\n",
       "      <td>992</td>\n",
       "      <td>1</td>\n",
       "    </tr>\n",
       "    <tr>\n",
       "      <th>222</th>\n",
       "      <td>1114</td>\n",
       "      <td>1</td>\n",
       "    </tr>\n",
       "  </tbody>\n",
       "</table>\n",
       "</div>"
      ],
      "text/plain": [
       "     PassengerId  Survived\n",
       "361         1253         1\n",
       "114         1006         1\n",
       "414         1306         1\n",
       "257         1149         0\n",
       "116         1008         0\n",
       "93           985         0\n",
       "81           973         0\n",
       "297         1189         0\n",
       "100          992         1\n",
       "222         1114         1"
      ]
     },
     "execution_count": 115,
     "metadata": {},
     "output_type": "execute_result"
    }
   ],
   "source": [
    "print('Validation Data Distribution: \\n', data_val['Survived'].value_counts(normalize = True))\n",
    "submit.sample(10)"
   ]
  }
 ],
 "metadata": {
  "kernelspec": {
   "display_name": "Python 3",
   "language": "python",
   "name": "python3"
  },
  "language_info": {
   "codemirror_mode": {
    "name": "ipython",
    "version": 3
   },
   "file_extension": ".py",
   "mimetype": "text/x-python",
   "name": "python",
   "nbconvert_exporter": "python",
   "pygments_lexer": "ipython3",
   "version": "3.6.2rc1"
  }
 },
 "nbformat": 4,
 "nbformat_minor": 2
}
